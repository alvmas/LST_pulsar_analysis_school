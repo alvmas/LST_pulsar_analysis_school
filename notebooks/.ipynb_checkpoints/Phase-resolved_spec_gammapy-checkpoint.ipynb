{
 "cells": [
  {
   "cell_type": "code",
   "execution_count": 1,
   "id": "30c91044",
   "metadata": {},
   "outputs": [],
   "source": [
    "from gammapy.irf import EffectiveAreaTable2D,EnergyDispersion2D\n",
    "from regions import CircleSkyRegion\n",
    "from gammapy.makers import SafeMaskMaker,PhaseBackgroundMaker,SpectrumDatasetMaker\n",
    "from gammapy.maps import Map, WcsGeom, MapAxis, RegionGeom\n",
    "from gammapy.data import DataStore, EventList, Observation, Observations\n",
    "from gammapy.datasets import Datasets, SpectrumDataset, FluxPointsDataset, SpectrumDatasetOnOff\n",
    "from gammapy.modeling.models import PowerLawSpectralModel, SkyModel\n",
    "from gammapy.modeling import Fit\n",
    "from gammapy.estimators import FluxPointsEstimator\n",
    "from gammapy.data import GTI"
   ]
  },
  {
   "cell_type": "code",
   "execution_count": 2,
   "id": "c44a35d5",
   "metadata": {},
   "outputs": [],
   "source": [
    "import astropy.units as u\n",
    "import os\n",
    "import pandas as pd\n",
    "import numpy as np\n",
    "import matplotlib.pylab as plt\n",
    "from astropy.coordinates import SkyCoord,Angle\n",
    "from astropy.table import unique\n",
    "from lstchain.io import get_srcdep_params\n",
    "from lstchain.io.io import dl2_params_lstcam_key\n",
    "from matplotlib.gridspec import GridSpec"
   ]
  },
  {
   "cell_type": "markdown",
   "id": "86daa158",
   "metadata": {},
   "source": [
    "## Useful functions"
   ]
  },
  {
   "cell_type": "code",
   "execution_count": 3,
   "id": "31dcfd7a",
   "metadata": {},
   "outputs": [],
   "source": [
    "#Function to find all the files that are in a directory and contain a string condition in the name\n",
    "def find_files_in_dir(directory,condition):\n",
    "    filelist=[]\n",
    "    for x in os.listdir(directory):\n",
    "            p_dir = os.path.relpath(directory)\n",
    "            p_file = os.path.join(directory, x)\n",
    "            if condition in p_file:\n",
    "                filelist.append(p_file)\n",
    "    return(filelist)"
   ]
  },
  {
   "cell_type": "code",
   "execution_count": 4,
   "id": "ff23efee",
   "metadata": {},
   "outputs": [],
   "source": [
    "#Function to shift all the negative phases in a list (PINT gives phases from [-0.5,0.5] but we need them in [0,1])\n",
    "def shift_negative_phases(phases):\n",
    "    for i in range(0,len(phases)):\n",
    "        if phases[i]<0:\n",
    "            phases[i]=phases[i]+1\n",
    "    return(phases)"
   ]
  },
  {
   "cell_type": "markdown",
   "id": "d9b8dce1",
   "metadata": {},
   "source": [
    "# 1. Define the arguments to be used"
   ]
  },
  {
   "cell_type": "markdown",
   "id": "aecc6489",
   "metadata": {},
   "source": [
    "ON and OFF regions in the phaseogram:"
   ]
  },
  {
   "cell_type": "code",
   "execution_count": 5,
   "id": "8c376257",
   "metadata": {},
   "outputs": [],
   "source": [
    "off_phase_range = (0.52,0.87)\n",
    "on_phase_range_P2 = (0.377,0.422)"
   ]
  },
  {
   "cell_type": "markdown",
   "id": "1812a58d",
   "metadata": {},
   "source": [
    "Directories:"
   ]
  },
  {
   "cell_type": "code",
   "execution_count": 6,
   "id": "a662c237",
   "metadata": {},
   "outputs": [],
   "source": [
    "DL3_direc='/fefs/aswg/workspace/alvaro.mas/LSTpulsar_data/notebook3/DL3/'\n",
    "DL2_direc='/fefs/aswg/workspace/alvaro.mas/LSTpulsar_data/notebook3/DL2_pulsar/'"
   ]
  },
  {
   "cell_type": "markdown",
   "id": "67dadd0a",
   "metadata": {},
   "source": [
    "Pointing and sky region:"
   ]
  },
  {
   "cell_type": "code",
   "execution_count": 7,
   "id": "096229ca",
   "metadata": {},
   "outputs": [],
   "source": [
    "target_position = SkyCoord(ra=83.633*u.deg, dec= 22.01*u.deg, frame=\"icrs\")\n",
    "on_region_radius = Angle(\"0.3deg\")\n",
    "on_region = CircleSkyRegion(center=target_position, radius=on_region_radius)\n",
    "max_zen = 35"
   ]
  },
  {
   "cell_type": "markdown",
   "id": "d95787df",
   "metadata": {},
   "source": [
    "Energy axis to be used:"
   ]
  },
  {
   "cell_type": "code",
   "execution_count": 8,
   "id": "31f1b543",
   "metadata": {},
   "outputs": [],
   "source": [
    "e_true = MapAxis.from_energy_bounds(0.003, 50, 60, unit=\"TeV\", name=\"energy_true\")\n",
    "e_reco = MapAxis.from_energy_bounds(0.025, 10, 30, unit=\"TeV\", name=\"energy\") "
   ]
  },
  {
   "cell_type": "markdown",
   "id": "6ce32bd6",
   "metadata": {},
   "source": [
    "# 2. Create Observations objects with the infor from DL3 and the phases from DL2"
   ]
  },
  {
   "cell_type": "markdown",
   "id": "38daafb8",
   "metadata": {},
   "source": [
    "## 2.1 Read DL3 files"
   ]
  },
  {
   "cell_type": "code",
   "execution_count": 9,
   "id": "b5368ec8",
   "metadata": {},
   "outputs": [],
   "source": [
    "total_datastore = DataStore.from_dir(DL3_direc)\n",
    "obj_name = np.unique(total_datastore.obs_table[\"OBJECT\"])[0]"
   ]
  },
  {
   "cell_type": "code",
   "execution_count": 10,
   "id": "344c3109",
   "metadata": {},
   "outputs": [
    {
     "name": "stderr",
     "output_type": "stream",
     "text": [
      "No HDU found matching: OBS_ID = 2976, HDU_TYPE = psf, HDU_CLASS = None\n",
      "No HDU found matching: OBS_ID = 2976, HDU_TYPE = bkg, HDU_CLASS = None\n",
      "No HDU found matching: OBS_ID = 2976, HDU_TYPE = rad_max, HDU_CLASS = None\n",
      "No HDU found matching: OBS_ID = 2977, HDU_TYPE = psf, HDU_CLASS = None\n",
      "No HDU found matching: OBS_ID = 2977, HDU_TYPE = bkg, HDU_CLASS = None\n",
      "No HDU found matching: OBS_ID = 2977, HDU_TYPE = rad_max, HDU_CLASS = None\n",
      "No HDU found matching: OBS_ID = 3093, HDU_TYPE = psf, HDU_CLASS = None\n",
      "No HDU found matching: OBS_ID = 3093, HDU_TYPE = bkg, HDU_CLASS = None\n",
      "No HDU found matching: OBS_ID = 3093, HDU_TYPE = rad_max, HDU_CLASS = None\n",
      "No HDU found matching: OBS_ID = 3094, HDU_TYPE = psf, HDU_CLASS = None\n",
      "No HDU found matching: OBS_ID = 3094, HDU_TYPE = bkg, HDU_CLASS = None\n",
      "No HDU found matching: OBS_ID = 3094, HDU_TYPE = rad_max, HDU_CLASS = None\n",
      "No HDU found matching: OBS_ID = 3095, HDU_TYPE = psf, HDU_CLASS = None\n",
      "No HDU found matching: OBS_ID = 3095, HDU_TYPE = bkg, HDU_CLASS = None\n",
      "No HDU found matching: OBS_ID = 3095, HDU_TYPE = rad_max, HDU_CLASS = None\n",
      "No HDU found matching: OBS_ID = 3096, HDU_TYPE = psf, HDU_CLASS = None\n",
      "No HDU found matching: OBS_ID = 3096, HDU_TYPE = bkg, HDU_CLASS = None\n",
      "No HDU found matching: OBS_ID = 3096, HDU_TYPE = rad_max, HDU_CLASS = None\n",
      "No HDU found matching: OBS_ID = 3270, HDU_TYPE = psf, HDU_CLASS = None\n",
      "No HDU found matching: OBS_ID = 3270, HDU_TYPE = bkg, HDU_CLASS = None\n",
      "No HDU found matching: OBS_ID = 3270, HDU_TYPE = rad_max, HDU_CLASS = None\n",
      "No HDU found matching: OBS_ID = 3271, HDU_TYPE = psf, HDU_CLASS = None\n",
      "No HDU found matching: OBS_ID = 3271, HDU_TYPE = bkg, HDU_CLASS = None\n",
      "No HDU found matching: OBS_ID = 3271, HDU_TYPE = rad_max, HDU_CLASS = None\n",
      "No HDU found matching: OBS_ID = 3272, HDU_TYPE = psf, HDU_CLASS = None\n",
      "No HDU found matching: OBS_ID = 3272, HDU_TYPE = bkg, HDU_CLASS = None\n",
      "No HDU found matching: OBS_ID = 3272, HDU_TYPE = rad_max, HDU_CLASS = None\n",
      "No HDU found matching: OBS_ID = 3273, HDU_TYPE = psf, HDU_CLASS = None\n",
      "No HDU found matching: OBS_ID = 3273, HDU_TYPE = bkg, HDU_CLASS = None\n",
      "No HDU found matching: OBS_ID = 3273, HDU_TYPE = rad_max, HDU_CLASS = None\n",
      "No HDU found matching: OBS_ID = 3274, HDU_TYPE = psf, HDU_CLASS = None\n",
      "No HDU found matching: OBS_ID = 3274, HDU_TYPE = bkg, HDU_CLASS = None\n",
      "No HDU found matching: OBS_ID = 3274, HDU_TYPE = rad_max, HDU_CLASS = None\n",
      "No HDU found matching: OBS_ID = 3275, HDU_TYPE = psf, HDU_CLASS = None\n",
      "No HDU found matching: OBS_ID = 3275, HDU_TYPE = bkg, HDU_CLASS = None\n",
      "No HDU found matching: OBS_ID = 3275, HDU_TYPE = rad_max, HDU_CLASS = None\n",
      "No HDU found matching: OBS_ID = 3276, HDU_TYPE = psf, HDU_CLASS = None\n",
      "No HDU found matching: OBS_ID = 3276, HDU_TYPE = bkg, HDU_CLASS = None\n",
      "No HDU found matching: OBS_ID = 3276, HDU_TYPE = rad_max, HDU_CLASS = None\n",
      "No HDU found matching: OBS_ID = 3277, HDU_TYPE = psf, HDU_CLASS = None\n",
      "No HDU found matching: OBS_ID = 3277, HDU_TYPE = bkg, HDU_CLASS = None\n",
      "No HDU found matching: OBS_ID = 3277, HDU_TYPE = rad_max, HDU_CLASS = None\n",
      "No HDU found matching: OBS_ID = 3278, HDU_TYPE = psf, HDU_CLASS = None\n",
      "No HDU found matching: OBS_ID = 3278, HDU_TYPE = bkg, HDU_CLASS = None\n",
      "No HDU found matching: OBS_ID = 3278, HDU_TYPE = rad_max, HDU_CLASS = None\n",
      "No HDU found matching: OBS_ID = 3279, HDU_TYPE = psf, HDU_CLASS = None\n",
      "No HDU found matching: OBS_ID = 3279, HDU_TYPE = bkg, HDU_CLASS = None\n",
      "No HDU found matching: OBS_ID = 3279, HDU_TYPE = rad_max, HDU_CLASS = None\n"
     ]
    }
   ],
   "source": [
    "total_obs_list = total_datastore.obs_table[\"OBS_ID\"].data\n",
    "observations = total_datastore.get_observations(total_obs_list, required_irf=None)"
   ]
  },
  {
   "cell_type": "code",
   "execution_count": 11,
   "id": "26706c8f",
   "metadata": {},
   "outputs": [],
   "source": [
    "d_zen = [total_datastore.obs_table[\"ZEN_PNT\"]<max_zen]\n",
    "\n",
    "obs_table = total_datastore.obs_table[d_zen[0]]\n",
    "obs_list = total_datastore.obs_table[d_zen[0]][\"OBS_ID\"]"
   ]
  },
  {
   "cell_type": "code",
   "execution_count": 12,
   "id": "90b2f194",
   "metadata": {
    "scrolled": true
   },
   "outputs": [
    {
     "name": "stdout",
     "output_type": "stream",
     "text": [
      "Wobble observation runs selected are: OBS_ID\n",
      "------\n",
      "  2976\n",
      "  2977\n",
      "  3093\n",
      "  3094\n",
      "  3095\n",
      "  3096\n",
      "  3270\n",
      "  3271\n",
      "  3272\n",
      "  3273\n",
      "  3274\n",
      "  3275\n",
      "  3276\n",
      "  3277\n",
      "  3278\n",
      "  3279\n",
      "Name of the source:Crab\n",
      "Total livetime of all observations: 5.185 hrs\n",
      "Total livetime of all selected wobble observations 5.185 hrs\n"
     ]
    }
   ],
   "source": [
    "print('Wobble observation runs selected are:', obs_list)\n",
    "print('Name of the source:'+str(obj_name))\n",
    "print(f'Total livetime of all observations: {total_datastore.obs_table[\"LIVETIME\"].data.sum()/3600:.3f} hrs')\n",
    "print(f'Total livetime of all selected wobble observations {obs_table[\"LIVETIME\"].data.sum()/3600:.3f} hrs')"
   ]
  },
  {
   "cell_type": "markdown",
   "id": "06cd2f47",
   "metadata": {},
   "source": [
    "## Merge the information from DL2 and DL3 files"
   ]
  },
  {
   "cell_type": "code",
   "execution_count": 13,
   "id": "2aeb68e8",
   "metadata": {},
   "outputs": [
    {
     "name": "stdout",
     "output_type": "stream",
     "text": [
      "Reading observation: 2976\n",
      "Reading observation: 2977\n",
      "Reading observation: 3093\n",
      "Reading observation: 3094\n",
      "Reading observation: 3095\n",
      "Reading observation: 3096\n",
      "Reading observation: 3270\n",
      "Reading observation: 3271\n",
      "Reading observation: 3272\n",
      "Reading observation: 3273\n",
      "Reading observation: 3274\n",
      "Reading observation: 3275\n",
      "Reading observation: 3276\n",
      "Reading observation: 3277\n",
      "Reading observation: 3278\n",
      "Reading observation: 3279\n",
      "Finished reading and adding phases\n"
     ]
    }
   ],
   "source": [
    "#New observation list \n",
    "observation_list=[]\n",
    "\n",
    "for j in range(0,len(obs_list)): #Loop over the observations\n",
    "    print('Reading observation: '+str(obs_list[j]))\n",
    "    \n",
    "    #Read the DL2 files that will be used (since we are now working with subruns, there are multiple DL2 files for 1 run )\n",
    "    DL2_filelist=find_files_in_dir(DL2_direc,str(obs_list[j]))\n",
    "    \n",
    "    #Read the DL3-table and extract the times\n",
    "    table=unique(observations[j].events.select_region(on_region).table,'TIME') # We only need the ON region\n",
    "    times=table['TIME']\n",
    "\n",
    "    #Read the Dl2 events \n",
    "    df_list=[]\n",
    "    for file in DL2_filelist:\n",
    "        df_i=pd.read_hdf(file,key=dl2_params_lstcam_key)\n",
    "        df_i=df_i[['trigger_time','pulsar_phase']]\n",
    "        df_i['pulsar_phase']=shift_negative_phases(df_i.pulsar_phase.to_list()) #PINT gives phases from [-0.5,0.5] but we need them in [0,1])\n",
    "        df_list.append(df_i)\n",
    "    df = pd.concat(df_list)\n",
    "    \n",
    "    #Filter using the times to keep only events that survived in the DL3 file\n",
    "    df=df[df['trigger_time'].isin(times)]\n",
    "    df=df.sort_values('trigger_time')\n",
    "    \n",
    "    #Create the new table with the phases\n",
    "    table['PHASE']=df.pulsar_phase\n",
    "    Events=EventList(table=table)\n",
    "    \n",
    "    #Create an observation for object with this new table and set the same IRFs and append to the list\n",
    "    obs=Observation(obs_id=observations[j].obs_id,obs_info=observations[j].obs_info,events=Events,\n",
    "                    gti=observations[j].gti,aeff=observations[j].aeff,edisp= observations[j].edisp)\n",
    "    observation_list.append(obs)\n",
    "\n",
    "print('Finished reading and adding phases')"
   ]
  },
  {
   "cell_type": "markdown",
   "id": "26b3e6f9",
   "metadata": {},
   "source": [
    "We can now see the final table of the events. For instance, for the first run:"
   ]
  },
  {
   "cell_type": "code",
   "execution_count": 34,
   "id": "e61ceca8",
   "metadata": {},
   "outputs": [
    {
     "data": {
      "text/html": [
       "<div><i>Table length=58366</i>\n",
       "<table id=\"table140554823320976\" class=\"table-striped table-bordered table-condensed\">\n",
       "<thead><tr><th>EVENT_ID</th><th>TIME</th><th>RA</th><th>DEC</th><th>ENERGY</th><th>GAMMANESS</th><th>MULTIP</th><th>GLON</th><th>GLAT</th><th>ALT</th><th>AZ</th><th>PHASE</th></tr></thead>\n",
       "<thead><tr><th></th><th>s</th><th>deg</th><th>deg</th><th>TeV</th><th></th><th></th><th>deg</th><th>deg</th><th>deg</th><th>deg</th><th></th></tr></thead>\n",
       "<thead><tr><th>int64</th><th>float64</th><th>float64</th><th>float64</th><th>float64</th><th>float64</th><th>int64</th><th>float64</th><th>float64</th><th>float64</th><th>float64</th><th>float128</th></tr></thead>\n",
       "<tr><td>42</td><td>1605929837.660851</td><td>83.63308333003926</td><td>22.014500000003437</td><td>0.0901667295503043</td><td>0.5105</td><td>1</td><td>184.55745787701255</td><td>-5.7843567057444405</td><td>76.4098164825337</td><td>243.2728937605216</td><td>0.80802787305770173987</td></tr>\n",
       "<tr><td>223</td><td>1605929837.6952374</td><td>83.63308333003926</td><td>22.014500000003427</td><td>0.055776988539481924</td><td>0.509</td><td>1</td><td>184.55745787701255</td><td>-5.784356705744442</td><td>76.40970399383467</td><td>243.2731971940421</td><td>0.82594323449125361947</td></tr>\n",
       "<tr><td>241</td><td>1605929837.6988533</td><td>83.63308333003928</td><td>22.01450000000342</td><td>0.06892168428566327</td><td>0.7641666666666669</td><td>1</td><td>184.55745787701258</td><td>-5.78435670574443</td><td>76.4096921652187</td><td>243.2732291009274</td><td>0.9329815602205169256</td></tr>\n",
       "<tr><td>317</td><td>1605929837.7121246</td><td>83.63308333003927</td><td>22.01450000000343</td><td>0.04241474015430102</td><td>0.5336666666666666</td><td>1</td><td>184.55745787701255</td><td>-5.784356705744432</td><td>76.40964875043362</td><td>243.2733462088501</td><td>0.32585188715898105727</td></tr>\n",
       "<tr><td>489</td><td>1605929837.7408738</td><td>83.63308333003928</td><td>22.01450000000343</td><td>0.10224893930999762</td><td>0.5321904761904762</td><td>1</td><td>184.55745787701258</td><td>-5.784356705744412</td><td>76.40955470233001</td><td>243.273599893413</td><td>0.17690254403992433652</td></tr>\n",
       "<tr><td>632</td><td>1605929837.764443</td><td>83.63308333003928</td><td>22.014500000003416</td><td>0.06264469180612553</td><td>0.5313333333333333</td><td>1</td><td>184.55745787701258</td><td>-5.784356705744431</td><td>76.4094775999352</td><td>243.2738078660067</td><td>0.8746083226752059403</td></tr>\n",
       "<tr><td>...</td><td>...</td><td>...</td><td>...</td><td>...</td><td>...</td><td>...</td><td>...</td><td>...</td><td>...</td><td>...</td><td>...</td></tr>\n",
       "<tr><td>6531261</td><td>1605930997.00315</td><td>83.6330833300462</td><td>22.01450000000496</td><td>0.030978436325803126</td><td>0.5190714285714286</td><td>1</td><td>184.5574578770147</td><td>-5.7843567057381815</td><td>72.48518683064698</td><td>251.47867968420925</td><td>0.37366741322334995345</td></tr>\n",
       "<tr><td>6531308</td><td>1605930997.0137062</td><td>83.6330833300462</td><td>22.014500000004976</td><td>0.04750494988442224</td><td>0.6575000000000002</td><td>1</td><td>184.55745787701468</td><td>-5.7843567057381735</td><td>72.48515016967228</td><td>251.47873982327795</td><td>0.6861630270168941337</td></tr>\n",
       "<tr><td>6531351</td><td>1605930997.0214267</td><td>83.6330833300462</td><td>22.01450000000496</td><td>0.04654158324227307</td><td>0.7671666666666667</td><td>1</td><td>184.5574578770147</td><td>-5.7843567057381815</td><td>72.48512335703975</td><td>251.47878380687155</td><td>0.9147032677183712934</td></tr>\n",
       "<tr><td>6531385</td><td>1605930997.0261962</td><td>83.63308333004623</td><td>22.014500000004986</td><td>0.12362021265883236</td><td>0.7720238095238094</td><td>1</td><td>184.5574578770147</td><td>-5.784356705738137</td><td>72.4851067926896</td><td>251.47881097906355</td><td>0.0558992129545483607</td></tr>\n",
       "<tr><td>6531643</td><td>1605930997.075917</td><td>83.63308333004622</td><td>22.01450000000498</td><td>0.025114177330924917</td><td>0.5798333333333333</td><td>1</td><td>184.5574578770147</td><td>-5.784356705738151</td><td>72.48493411589999</td><td>251.47909423560853</td><td>0.5277592101911547928</td></tr>\n",
       "<tr><td>6531697</td><td>1605930997.085496</td><td>83.63308333004623</td><td>22.014500000004972</td><td>0.07140744402158498</td><td>0.6976666666666667</td><td>1</td><td>184.5574578770147</td><td>-5.784356705738143</td><td>72.48490084885758</td><td>251.479148805805</td><td>0.811327631610813782</td></tr>\n",
       "</table></div>"
      ],
      "text/plain": [
       "<Table length=58366>\n",
       "EVENT_ID        TIME        ...         AZ                 PHASE         \n",
       "                 s          ...        deg                               \n",
       " int64        float64       ...      float64              float128       \n",
       "-------- ------------------ ... ------------------ ----------------------\n",
       "      42  1605929837.660851 ...  243.2728937605216 0.80802787305770173987\n",
       "     223 1605929837.6952374 ...  243.2731971940421 0.82594323449125361947\n",
       "     241 1605929837.6988533 ...  243.2732291009274  0.9329815602205169256\n",
       "     317 1605929837.7121246 ...  243.2733462088501 0.32585188715898105727\n",
       "     489 1605929837.7408738 ...   243.273599893413 0.17690254403992433652\n",
       "     632  1605929837.764443 ...  243.2738078660067  0.8746083226752059403\n",
       "     ...                ... ...                ...                    ...\n",
       " 6531261   1605930997.00315 ... 251.47867968420925 0.37366741322334995345\n",
       " 6531308 1605930997.0137062 ... 251.47873982327795  0.6861630270168941337\n",
       " 6531351 1605930997.0214267 ... 251.47878380687155  0.9147032677183712934\n",
       " 6531385 1605930997.0261962 ... 251.47881097906355  0.0558992129545483607\n",
       " 6531643  1605930997.075917 ... 251.47909423560853  0.5277592101911547928\n",
       " 6531697  1605930997.085496 ...   251.479148805805   0.811327631610813782"
      ]
     },
     "execution_count": 34,
     "metadata": {},
     "output_type": "execute_result"
    }
   ],
   "source": [
    "observation_list[0].events.table"
   ]
  },
  {
   "cell_type": "markdown",
   "id": "989ef7f2",
   "metadata": {},
   "source": [
    "# 3. Define makers"
   ]
  },
  {
   "cell_type": "code",
   "execution_count": 35,
   "id": "a4282ba1",
   "metadata": {},
   "outputs": [],
   "source": [
    "# Create Makers to define the geometry of the datasets\n",
    "geom = RegionGeom.create(region=on_region, axes=[e_reco])\n",
    "dataset_empty = SpectrumDataset.create(geom=geom,energy_axis_true=e_true)"
   ]
  },
  {
   "cell_type": "code",
   "execution_count": 36,
   "id": "4eabedc4",
   "metadata": {},
   "outputs": [],
   "source": [
    "#Define dataset maker\n",
    "dataset_maker = SpectrumDatasetMaker(containment_correction=False, selection=[\"counts\", \"exposure\", \"edisp\"],\n",
    "                                     use_region_center=True)"
   ]
  },
  {
   "cell_type": "code",
   "execution_count": 37,
   "id": "22220c26",
   "metadata": {},
   "outputs": [],
   "source": [
    "# Define background maker with the phase regions\n",
    "bkg_maker_P2 = PhaseBackgroundMaker(on_phase=on_phase_range_P2, off_phase=off_phase_range)"
   ]
  },
  {
   "cell_type": "code",
   "execution_count": 38,
   "id": "148f8c60",
   "metadata": {},
   "outputs": [],
   "source": [
    "# Define safe maker to be used optionally\n",
    "safe_mask_masker = SafeMaskMaker(methods=[\"aeff-max\"], aeff_percent=10)"
   ]
  },
  {
   "cell_type": "markdown",
   "id": "634b1ef9",
   "metadata": {},
   "source": [
    "# 4. Run makers on the observations to get the Datasets"
   ]
  },
  {
   "cell_type": "markdown",
   "id": "292b46e8",
   "metadata": {},
   "source": [
    "### For P2 as an example"
   ]
  },
  {
   "cell_type": "code",
   "execution_count": 39,
   "id": "c1b5ba0c",
   "metadata": {},
   "outputs": [
    {
     "name": "stderr",
     "output_type": "stream",
     "text": [
      "MapMaker: use_region_center=False should not be used with point-like IRF. Results are likely inaccurate.\n",
      "MapMaker: use_region_center=False should not be used with point-like IRF. Results are likely inaccurate.\n",
      "MapMaker: use_region_center=False should not be used with point-like IRF. Results are likely inaccurate.\n",
      "MapMaker: use_region_center=False should not be used with point-like IRF. Results are likely inaccurate.\n",
      "MapMaker: use_region_center=False should not be used with point-like IRF. Results are likely inaccurate.\n",
      "MapMaker: use_region_center=False should not be used with point-like IRF. Results are likely inaccurate.\n",
      "MapMaker: use_region_center=False should not be used with point-like IRF. Results are likely inaccurate.\n",
      "MapMaker: use_region_center=False should not be used with point-like IRF. Results are likely inaccurate.\n",
      "MapMaker: use_region_center=False should not be used with point-like IRF. Results are likely inaccurate.\n",
      "MapMaker: use_region_center=False should not be used with point-like IRF. Results are likely inaccurate.\n",
      "MapMaker: use_region_center=False should not be used with point-like IRF. Results are likely inaccurate.\n",
      "MapMaker: use_region_center=False should not be used with point-like IRF. Results are likely inaccurate.\n",
      "MapMaker: use_region_center=False should not be used with point-like IRF. Results are likely inaccurate.\n",
      "MapMaker: use_region_center=False should not be used with point-like IRF. Results are likely inaccurate.\n",
      "MapMaker: use_region_center=False should not be used with point-like IRF. Results are likely inaccurate.\n",
      "MapMaker: use_region_center=False should not be used with point-like IRF. Results are likely inaccurate.\n"
     ]
    }
   ],
   "source": [
    "# The final object will be stored as a Datasets object\n",
    "datasets_P2 = Datasets()\n",
    "\n",
    "for obs_id, observation in zip(total_obs_list, observation_list):\n",
    "    dataset = dataset_maker.run(dataset_empty.copy(name=str(obs_id)), observation)\n",
    "    \n",
    "    dataset_on_off = bkg_maker_P2.run(dataset=dataset, observation=observation)\n",
    "    #dataset_on_off = safe_mask_masker.run(dataset_on_off, observation)\n",
    "    \n",
    "    # Add the name of the observed source\n",
    "    dataset_on_off.meta_table[\"SOURCE\"]='Crab'\n",
    "    \n",
    "    datasets_P2.append(dataset_on_off)  "
   ]
  },
  {
   "cell_type": "code",
   "execution_count": 40,
   "id": "c6d1e789",
   "metadata": {},
   "outputs": [],
   "source": [
    "dataset_stacked_P2 = Datasets(datasets_P2).stack_reduce()"
   ]
  },
  {
   "cell_type": "markdown",
   "id": "7ce5def0",
   "metadata": {},
   "source": [
    "We can now see the statistics of the dataset:"
   ]
  },
  {
   "cell_type": "code",
   "execution_count": 41,
   "id": "8e41a908",
   "metadata": {},
   "outputs": [
    {
     "data": {
      "text/plain": [
       "{'name': 'pjfAuk9y',\n",
       " 'counts': 33249,\n",
       " 'background': 32589.515625,\n",
       " 'excess': 659.4844,\n",
       " 'sqrt_ts': 3.425941077927676,\n",
       " 'npred': 32664.648228585334,\n",
       " 'npred_background': 32664.648228585334,\n",
       " 'npred_signal': nan,\n",
       " 'exposure_min': <Quantity 25621922. m2 s>,\n",
       " 'exposure_max': <Quantity 8.03044403e+09 m2 s>,\n",
       " 'livetime': <Quantity 18718.04080137 s>,\n",
       " 'ontime': <Quantity 19497.7792027 s>,\n",
       " 'counts_rate': <Quantity 1.7763077 1 / s>,\n",
       " 'background_rate': <Quantity 1.74107515 1 / s>,\n",
       " 'excess_rate': <Quantity 0.03523255 1 / s>,\n",
       " 'n_bins': 30,\n",
       " 'n_fit_bins': 30,\n",
       " 'stat_type': 'wstat',\n",
       " 'stat_sum': 41.24392937321082,\n",
       " 'counts_off': 253474,\n",
       " 'acceptance': 30.0,\n",
       " 'acceptance_off': 233.3333237443599,\n",
       " 'alpha': 0.12857145071029663}"
      ]
     },
     "execution_count": 41,
     "metadata": {},
     "output_type": "execute_result"
    }
   ],
   "source": [
    "dataset_stacked_P2.info_dict()"
   ]
  },
  {
   "cell_type": "markdown",
   "id": "05deae78",
   "metadata": {},
   "source": [
    "# 5. Do the Fitting"
   ]
  },
  {
   "cell_type": "markdown",
   "id": "2c9cec54",
   "metadata": {},
   "source": [
    "First we define the energy range and the model that we want to fit:"
   ]
  },
  {
   "cell_type": "code",
   "execution_count": 42,
   "id": "8880f3b9",
   "metadata": {},
   "outputs": [],
   "source": [
    "emin_fit, emax_fit = (0.025 * u.TeV,  100 * u.TeV) #Energies for the fitting\n",
    "spectral_model = PowerLawSpectralModel(index=2.9, \n",
    "                                       amplitude=2e-11 * u.Unit(\"1 / (cm2 s TeV)\"), \n",
    "                                       reference=0.15 * u.TeV)\n",
    "model_P2 = SkyModel(spectral_model=spectral_model, name=\"crab P2\")"
   ]
  },
  {
   "cell_type": "code",
   "execution_count": 43,
   "id": "41ff4f08",
   "metadata": {},
   "outputs": [],
   "source": [
    "dataset_stacked_P2.models = model_P2 #define the model in the dataset object\n",
    "dataset_stacked_P2.mask_fit = dataset_stacked_P2.counts.geom.energy_mask(emin_fit, emax_fit) #Define the enery mask"
   ]
  },
  {
   "cell_type": "markdown",
   "id": "4e4d2a10",
   "metadata": {},
   "source": [
    "We can now perform the fitting:"
   ]
  },
  {
   "cell_type": "code",
   "execution_count": 44,
   "id": "9869009e",
   "metadata": {},
   "outputs": [],
   "source": [
    "stacked_fit = Fit() #Create object\n",
    "result_stacked_P2 = stacked_fit.run([dataset_stacked_P2]) #Run object with the dataset information\n",
    "\n",
    "# make a copy to compare later\n",
    "model_best_stacked_P2 = model_P2.copy()"
   ]
  },
  {
   "cell_type": "markdown",
   "id": "f24ef9c1",
   "metadata": {},
   "source": [
    "And we can explore the results:"
   ]
  },
  {
   "cell_type": "code",
   "execution_count": 45,
   "id": "3c3f18e5",
   "metadata": {},
   "outputs": [
    {
     "data": {
      "text/html": [
       "<div><i>Table length=3</i>\n",
       "<table id=\"table140554717204432\" class=\"table-striped table-bordered table-condensed\">\n",
       "<thead><tr><th>type</th><th>name</th><th>value</th><th>unit</th><th>error</th><th>min</th><th>max</th><th>frozen</th><th>link</th></tr></thead>\n",
       "<thead><tr><th>str8</th><th>str9</th><th>float64</th><th>str14</th><th>float64</th><th>float64</th><th>float64</th><th>bool</th><th>str1</th></tr></thead>\n",
       "<tr><td>spectral</td><td>index</td><td>3.0411e+00</td><td></td><td>3.850e-01</td><td>nan</td><td>nan</td><td>False</td><td></td></tr>\n",
       "<tr><td>spectral</td><td>amplitude</td><td>2.3866e-11</td><td>cm-2 s-1 TeV-1</td><td>1.274e-11</td><td>nan</td><td>nan</td><td>False</td><td></td></tr>\n",
       "<tr><td>spectral</td><td>reference</td><td>1.5000e-01</td><td>TeV</td><td>0.000e+00</td><td>nan</td><td>nan</td><td>True</td><td></td></tr>\n",
       "</table></div>"
      ],
      "text/plain": [
       "<Table length=3>\n",
       "  type      name     value         unit      ...   min     max   frozen link\n",
       "  str8      str9    float64       str14      ... float64 float64  bool  str1\n",
       "-------- --------- ---------- -------------- ... ------- ------- ------ ----\n",
       "spectral     index 3.0411e+00                ...     nan     nan  False     \n",
       "spectral amplitude 2.3866e-11 cm-2 s-1 TeV-1 ...     nan     nan  False     \n",
       "spectral reference 1.5000e-01            TeV ...     nan     nan   True     "
      ]
     },
     "execution_count": 45,
     "metadata": {},
     "output_type": "execute_result"
    }
   ],
   "source": [
    "model_best_stacked_P2.parameters.to_table()"
   ]
  },
  {
   "cell_type": "markdown",
   "id": "d1b56145",
   "metadata": {},
   "source": [
    "# 6. Obtain spectral points"
   ]
  },
  {
   "cell_type": "markdown",
   "id": "bd4dd3e9",
   "metadata": {},
   "source": [
    "We define the energy bins for the spectral points and the limits for the Upper Limits"
   ]
  },
  {
   "cell_type": "code",
   "execution_count": 46,
   "id": "1657dffd",
   "metadata": {},
   "outputs": [],
   "source": [
    "min_ts=1.5 #Limit for the UL\n",
    "e_min, e_max = 0.025, 0.5\n",
    "energy_edges = np.geomspace(e_min, e_max, 6) * u.TeV"
   ]
  },
  {
   "cell_type": "markdown",
   "id": "454445fe",
   "metadata": {},
   "source": [
    "Compute the FluxPoints"
   ]
  },
  {
   "cell_type": "code",
   "execution_count": 47,
   "id": "b9d7a30e",
   "metadata": {},
   "outputs": [],
   "source": [
    "fpe = FluxPointsEstimator(energy_edges=energy_edges, source=\"crab P2\", selection_optional=\"all\")\n",
    "flux_points_P2 = fpe.run(datasets=dataset_stacked_P2)"
   ]
  },
  {
   "cell_type": "code",
   "execution_count": 48,
   "id": "79a3ce95",
   "metadata": {},
   "outputs": [],
   "source": [
    "flux_points_P2.is_ul = flux_points_P2.sqrt_ts < min_ts"
   ]
  },
  {
   "cell_type": "markdown",
   "id": "90bfab08",
   "metadata": {},
   "source": [
    "See the table with the stores results:"
   ]
  },
  {
   "cell_type": "code",
   "execution_count": 49,
   "id": "a69cae84",
   "metadata": {},
   "outputs": [
    {
     "data": {
      "text/html": [
       "<div><i>Table length=5</i>\n",
       "<table id=\"table140554782460240\" class=\"table-striped table-bordered table-condensed\">\n",
       "<thead><tr><th>e_ref</th><th>e_min</th><th>e_max</th><th>dnde</th><th>dnde_err</th><th>dnde_errp</th><th>dnde_errn</th><th>dnde_ul</th><th>ts</th><th>sqrt_ts</th><th>npred [1]</th><th>npred_excess [1]</th><th>stat</th><th>is_ul</th><th>counts [1]</th><th>success</th><th>norm_scan [11]</th><th>stat_scan [11]</th></tr></thead>\n",
       "<thead><tr><th>TeV</th><th>TeV</th><th>TeV</th><th>1 / (cm2 s TeV)</th><th>1 / (cm2 s TeV)</th><th>1 / (cm2 s TeV)</th><th>1 / (cm2 s TeV)</th><th>1 / (cm2 s TeV)</th><th></th><th></th><th></th><th></th><th></th><th></th><th></th><th></th><th></th><th></th></tr></thead>\n",
       "<thead><tr><th>float64</th><th>float64</th><th>float64</th><th>float64</th><th>float64</th><th>float64</th><th>float64</th><th>float64</th><th>float64</th><th>float64</th><th>float64</th><th>float32</th><th>float64</th><th>bool</th><th>float64</th><th>bool</th><th>float64</th><th>float64</th></tr></thead>\n",
       "<tr><td>0.034</td><td>0.025</td><td>0.046</td><td>2.258e-09</td><td>9.902e-10</td><td>9.925e-10</td><td>9.879e-10</td><td>4.247e-09</td><td>5.255</td><td>2.292</td><td>14421.670979434677</td><td>289.69867</td><td>1.139</td><td>False</td><td>14428.0</td><td>True</td><td>0.200 .. 5.000</td><td>4.515 .. 78.680</td></tr>\n",
       "<tr><td>0.061</td><td>0.046</td><td>0.083</td><td>2.015e-10</td><td>2.002e-10</td><td>2.008e-10</td><td>nan</td><td>6.053e-10</td><td>1.030</td><td>1.015</td><td>9518.690373653819</td><td>104.00746</td><td>2.038</td><td>True</td><td>9513.0</td><td>True</td><td>0.200 .. 5.000</td><td>2.464 .. 63.236</td></tr>\n",
       "<tr><td>0.112</td><td>0.083</td><td>0.151</td><td>8.368e-11</td><td>4.440e-11</td><td>4.457e-11</td><td>4.424e-11</td><td>1.733e-10</td><td>3.616</td><td>1.901</td><td>5582.546479270561</td><td>149.06003</td><td>1.869</td><td>False</td><td>5587.0</td><td>True</td><td>0.200 .. 5.000</td><td>4.543 .. 23.044</td></tr>\n",
       "<tr><td>0.204</td><td>0.151</td><td>0.275</td><td>1.609e-11</td><td>9.275e-12</td><td>9.330e-12</td><td>9.220e-12</td><td>3.486e-11</td><td>3.073</td><td>1.753</td><td>2142.10635445315</td><td>85.10573</td><td>1.984</td><td>False</td><td>2143.0</td><td>True</td><td>0.200 .. 5.000</td><td>4.373 .. 12.778</td></tr>\n",
       "<tr><td>0.371</td><td>0.275</td><td>0.500</td><td>1.260e-12</td><td>2.379e-12</td><td>2.401e-12</td><td>nan</td><td>6.106e-12</td><td>0.284</td><td>0.533</td><td>929.6401702188332</td><td>17.122404</td><td>9.836</td><td>True</td><td>928.0</td><td>True</td><td>0.200 .. 5.000</td><td>9.999 .. 16.665</td></tr>\n",
       "</table></div>"
      ],
      "text/plain": [
       "<Table length=5>\n",
       " e_ref   e_min   e_max  ... success norm_scan [11]  stat_scan [11]\n",
       "  TeV     TeV     TeV   ...                                       \n",
       "float64 float64 float64 ...   bool     float64         float64    \n",
       "------- ------- ------- ... ------- -------------- ---------------\n",
       "  0.034   0.025   0.046 ...    True 0.200 .. 5.000 4.515 .. 78.680\n",
       "  0.061   0.046   0.083 ...    True 0.200 .. 5.000 2.464 .. 63.236\n",
       "  0.112   0.083   0.151 ...    True 0.200 .. 5.000 4.543 .. 23.044\n",
       "  0.204   0.151   0.275 ...    True 0.200 .. 5.000 4.373 .. 12.778\n",
       "  0.371   0.275   0.500 ...    True 0.200 .. 5.000 9.999 .. 16.665"
      ]
     },
     "execution_count": 49,
     "metadata": {},
     "output_type": "execute_result"
    }
   ],
   "source": [
    "flux_points_P2.to_table(sed_type=\"dnde\", formatted=True)"
   ]
  },
  {
   "cell_type": "markdown",
   "id": "07e92561",
   "metadata": {},
   "source": [
    "# 7. Plot the spectrum"
   ]
  },
  {
   "cell_type": "markdown",
   "id": "b37e38b6",
   "metadata": {},
   "source": [
    "Some general seetings:"
   ]
  },
  {
   "cell_type": "code",
   "execution_count": 50,
   "id": "78e1cd64",
   "metadata": {},
   "outputs": [],
   "source": [
    "ref_label=\"P1P2 MAGIC\"\n",
    "\n",
    "e_plot_min = 0.025 * u.TeV\n",
    "e_plot_max = 0.5 * u.TeV\n",
    "\n",
    "\n",
    "ds_kwargs = {\n",
    "    \"sed_type\": \"dnde\",\n",
    "    \"energy_bounds\": [e_plot_min, e_plot_max],\n",
    "    \"yunits\": u.Unit(\"erg-1 cm-2 s-1\"),\n",
    "}\n",
    "\n",
    "sed_kwargs_P2 = {\n",
    "    \"sed_type\": \"e2dnde\",\n",
    "    \"energy_bounds\": [e_plot_min, e_plot_max],\n",
    "    \"yunits\": u.Unit(\"erg cm-2 s-1\"),\n",
    "    \"color\":'red'\n",
    "}\n",
    "\n",
    "sed_plot_kwargs_P2 = {\n",
    "    \"label\": \"P1 LST-1 data\",\n",
    "    \"color\":'red'\n",
    "}\n",
    "plot_ts_kwargs = {\n",
    "    \"color\": \"darkorange\",\n",
    "}"
   ]
  },
  {
   "cell_type": "code",
   "execution_count": 51,
   "id": "657db8cd",
   "metadata": {},
   "outputs": [
    {
     "data": {
      "text/plain": [
       "Text(0.5, 1.0, 'TS Profiles')"
      ]
     },
     "execution_count": 51,
     "metadata": {},
     "output_type": "execute_result"
    },
    {
     "data": {
      "image/png": "[encoded data removed]",
      "text/plain": [
       "<Figure size 576x360 with 2 Axes>"
      ]
     },
     "metadata": {
      "needs_background": "light"
     },
     "output_type": "display_data"
    }
   ],
   "source": [
    "plt.figure(figsize=(8,5))\n",
    "ax = flux_points_P2.plot(sed_type=\"e2dnde\", **plot_ts_kwargs)\n",
    "\n",
    "flux_points_P2.plot_ts_profiles(ax=ax, sed_type=\"e2dnde\")\n",
    "\n",
    "plt.grid(which='both')\n",
    "plt.title('TS Profiles')"
   ]
  },
  {
   "cell_type": "code",
   "execution_count": 52,
   "id": "22d8ae7e",
   "metadata": {},
   "outputs": [
    {
     "data": {
      "text/plain": [
       "<AxesSubplot:>"
      ]
     },
     "execution_count": 52,
     "metadata": {},
     "output_type": "execute_result"
    },
    {
     "data": {
      "image/png": "[encoded data removed]",
      "text/plain": [
       "<Figure size 172.8x140.4 with 2 Axes>"
      ]
     },
     "metadata": {
      "needs_background": "light"
     },
     "output_type": "display_data"
    }
   ],
   "source": [
    "# Fit model covariance matrix plot\n",
    "model_best_stacked_P2.covariance.plot_correlation()"
   ]
  },
  {
   "cell_type": "markdown",
   "id": "9e81e181",
   "metadata": {},
   "source": [
    "And we can plot the SED:"
   ]
  },
  {
   "cell_type": "code",
   "execution_count": 53,
   "id": "178ba7c5",
   "metadata": {},
   "outputs": [
    {
     "data": {
      "image/png": "[encoded data removed]",
      "text/plain": [
       "<Figure size 576x576 with 2 Axes>"
      ]
     },
     "metadata": {
      "needs_background": "light"
     },
     "output_type": "display_data"
    }
   ],
   "source": [
    "#Create figure\n",
    "fig_sed = plt.figure(figsize=(8,8))\n",
    "gs2 = GridSpec(7, 1)\n",
    "gs2.update(hspace=0.1)\n",
    "\n",
    "#Two plots: one for the SED, other for the residuals\n",
    "args1 = [gs2[:5,:]]\n",
    "args2 = [gs2[5:,:]]\n",
    "fig_gs1 = fig_sed.add_subplot(*args1)\n",
    "fig_gs2 = fig_sed.add_subplot(*args2)\n",
    "\n",
    "#Plot the spectral points and the residuals\n",
    "f=FluxPointsDataset(data=flux_points_P2, models=model_best_stacked_P2)\n",
    "f.plot_spectrum(ax=fig_gs1, kwargs_fp=sed_plot_kwargs_P2)\n",
    "f.plot_residuals(ax=fig_gs2, method='diff/model')\n",
    "\n",
    "#Plot the reference model for the peak\n",
    "ref_model = spectral_model = PowerLawSpectralModel(index=2.9, amplitude=2e-11 * u.Unit(\"1 / (cm2 s TeV)\"), \n",
    "                                                    reference=0.15 * u.TeV)\n",
    "ref_model.plot(ax=fig_gs1, **sed_kwargs_P2, label=ref_label)\n",
    "\n",
    "#Seeting the legend and the grids\n",
    "fig_gs1.legend()\n",
    "fig_gs1.grid(which='both')\n",
    "fig_gs1.set_title('SED')\n",
    "fig_gs2.grid(which='both')"
   ]
  },
  {
   "cell_type": "code",
   "execution_count": null,
   "id": "5a0b210b",
   "metadata": {},
   "outputs": [],
   "source": []
  }
 ],
 "metadata": {
  "kernelspec": {
   "display_name": "Python 3 (ipykernel)",
   "language": "python",
   "name": "python3"
  },
  "language_info": {
   "codemirror_mode": {
    "name": "ipython",
    "version": 3
   },
   "file_extension": ".py",
   "mimetype": "text/x-python",
   "name": "python",
   "nbconvert_exporter": "python",
   "pygments_lexer": "ipython3",
   "version": "3.7.12"
  }
 },
 "nbformat": 4,
 "nbformat_minor": 5
}
