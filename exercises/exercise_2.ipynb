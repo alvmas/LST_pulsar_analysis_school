{
 "cells": [
  {
   "cell_type": "markdown",
   "id": "0cd41672",
   "metadata": {},
   "source": [
    "# Exercise 2. DL3 files and phase-resolved spectrum with gammapy"
   ]
  },
  {
   "cell_type": "markdown",
   "id": "7ecadde3",
   "metadata": {},
   "source": [
    "### 2.1 For the runs in LSTpulsar_data/notebook3 merge the DL3 information with the DL2 phases and create the Observation Objects in gammapy"
   ]
  },
  {
   "cell_type": "markdown",
   "id": "56163ca0",
   "metadata": {},
   "source": [
    "### 2.2. Compute te phase-resovled spectrum for P1 defined as [0,0.026,0.983,1]. Use only E<500GeV to perform the fitting."
   ]
  },
  {
   "cell_type": "code",
   "execution_count": null,
   "id": "b3c98b45",
   "metadata": {},
   "outputs": [],
   "source": []
  }
 ],
 "metadata": {
  "kernelspec": {
   "display_name": "Python 3 (ipykernel)",
   "language": "python",
   "name": "python3"
  },
  "language_info": {
   "codemirror_mode": {
    "name": "ipython",
    "version": 3
   },
   "file_extension": ".py",
   "mimetype": "text/x-python",
   "name": "python",
   "nbconvert_exporter": "python",
   "pygments_lexer": "ipython3",
   "version": "3.8.12"
  }
 },
 "nbformat": 4,
 "nbformat_minor": 5
}
