{
 "cells": [
  {
   "cell_type": "code",
   "execution_count": 5,
   "id": "30c91044",
   "metadata": {},
   "outputs": [],
   "source": [
    "from gammapy.irf import EffectiveAreaTable2D,EnergyDispersion2D\n",
    "from regions import CircleSkyRegion\n",
    "from gammapy.makers import SafeMaskMaker,PhaseBackgroundMaker,SpectrumDatasetMaker\n",
    "from gammapy.maps import Map, WcsGeom, MapAxis, RegionGeom\n",
    "from gammapy.data import DataStore, EventList, Observation, Observations\n",
    "from gammapy.datasets import Datasets, SpectrumDataset, FluxPointsDataset, SpectrumDatasetOnOff\n",
    "from gammapy.modeling.models import PowerLawSpectralModel, SkyModel\n",
    "from gammapy.modeling import Fit\n",
    "from gammapy.estimators import FluxPointsEstimator\n",
    "from gammapy.data import GTI"
   ]
  },
  {
   "cell_type": "code",
   "execution_count": 6,
   "id": "c44a35d5",
   "metadata": {},
   "outputs": [],
   "source": [
    "import astropy.units as u\n",
    "import os\n",
    "import pandas as pd\n",
    "import numpy as np\n",
    "import matplotlib.pylab as plt\n",
    "from astropy.coordinates import SkyCoord,Angle\n",
    "from astropy.table import unique\n",
    "from lstchain.io import get_srcdep_params\n",
    "from lstchain.io.io import dl2_params_lstcam_key\n",
    "from matplotlib.gridspec import GridSpec"
   ]
  },
  {
   "cell_type": "markdown",
   "id": "86daa158",
   "metadata": {},
   "source": [
    "## Useful functions"
   ]
  },
  {
   "cell_type": "code",
   "execution_count": 7,
   "id": "31dcfd7a",
   "metadata": {},
   "outputs": [],
   "source": [
    "#Function to find all the files that are in a directory and contain a string condition in the name\n",
    "def find_files_in_dir(directory,condition):\n",
    "    filelist=[]\n",
    "    for x in os.listdir(directory):\n",
    "            p_dir = os.path.relpath(directory)\n",
    "            p_file = os.path.join(directory, x)\n",
    "            if condition in p_file:\n",
    "                filelist.append(p_file)\n",
    "    return(filelist)"
   ]
  },
  {
   "cell_type": "code",
   "execution_count": 8,
   "id": "ff23efee",
   "metadata": {},
   "outputs": [],
   "source": [
    "#Function to shift all the negative phases in a list (PINT gives phases from [-0.5,0.5] but we need them in [0,1])\n",
    "def shift_negative_phases(phases):\n",
    "    for i in range(0,len(phases)):\n",
    "        if phases[i]<0:\n",
    "            phases[i]=phases[i]+1\n",
    "    return(phases)"
   ]
  },
  {
   "cell_type": "markdown",
   "id": "d9b8dce1",
   "metadata": {},
   "source": [
    "# 1. Define the arguments to be used"
   ]
  },
  {
   "cell_type": "code",
   "execution_count": 9,
   "id": "8c376257",
   "metadata": {},
   "outputs": [],
   "source": [
    "off_phase_range = (0.52,0.87)\n",
    "on_phase_range_P2 = (0.377,0.422)\n",
    "on_phase_range_P1_1 = (0,0.026)\n",
    "on_phase_range_P1_2 = (0.983,1)\n",
    "bridge_phase=(0.026,0.377)"
   ]
  },
  {
   "cell_type": "code",
   "execution_count": 10,
   "id": "a662c237",
   "metadata": {},
   "outputs": [],
   "source": [
    "DL3_direc='/fefs/aswg/workspace/alvaro.mas/data/real/Crab/src_dependent/v0.9_crab/DL3_pulsar/'\n",
    "DL2_direc='/fefs/aswg/workspace/alvaro.mas/data/real/Crab/src_dependent/v0.9_crab/DL2_pulsar/'"
   ]
  },
  {
   "cell_type": "code",
   "execution_count": 11,
   "id": "096229ca",
   "metadata": {},
   "outputs": [],
   "source": [
    "target_position = SkyCoord(ra=83.633*u.deg, dec= 22.01*u.deg, frame=\"icrs\")\n",
    "on_region_radius = Angle(\"0.2deg\")\n",
    "on_region = CircleSkyRegion(center=target_position, radius=on_region_radius)"
   ]
  },
  {
   "cell_type": "code",
   "execution_count": 12,
   "id": "31f1b543",
   "metadata": {},
   "outputs": [],
   "source": [
    "e_true = MapAxis.from_energy_bounds(0.003, 50, 60, unit=\"TeV\", name=\"energy_true\")\n",
    "e_reco = MapAxis.from_energy_bounds(0.03, 10, 40, unit=\"TeV\", name=\"energy\")\n",
    "max_zen = 35 "
   ]
  },
  {
   "cell_type": "markdown",
   "id": "6ce32bd6",
   "metadata": {},
   "source": [
    "# 2. Create Observations objects with the infor from DL3 and the phases from DL2"
   ]
  },
  {
   "cell_type": "code",
   "execution_count": 14,
   "id": "b5368ec8",
   "metadata": {},
   "outputs": [],
   "source": [
    "total_datastore = DataStore.from_dir(DL3_direc)\n",
    "obj_name = np.unique(total_datastore.obs_table[\"OBJECT\"])[0]"
   ]
  },
  {
   "cell_type": "code",
   "execution_count": 16,
   "id": "344c3109",
   "metadata": {},
   "outputs": [
    {
     "name": "stderr",
     "output_type": "stream",
     "text": [
      "No HDU found matching: OBS_ID = 2913, HDU_TYPE = psf, HDU_CLASS = None\n",
      "No HDU found matching: OBS_ID = 2913, HDU_TYPE = bkg, HDU_CLASS = None\n",
      "No HDU found matching: OBS_ID = 2913, HDU_TYPE = rad_max, HDU_CLASS = None\n",
      "No HDU found matching: OBS_ID = 2914, HDU_TYPE = psf, HDU_CLASS = None\n",
      "No HDU found matching: OBS_ID = 2914, HDU_TYPE = bkg, HDU_CLASS = None\n",
      "No HDU found matching: OBS_ID = 2914, HDU_TYPE = rad_max, HDU_CLASS = None\n",
      "No HDU found matching: OBS_ID = 2929, HDU_TYPE = psf, HDU_CLASS = None\n",
      "No HDU found matching: OBS_ID = 2929, HDU_TYPE = bkg, HDU_CLASS = None\n",
      "No HDU found matching: OBS_ID = 2929, HDU_TYPE = rad_max, HDU_CLASS = None\n",
      "No HDU found matching: OBS_ID = 2930, HDU_TYPE = psf, HDU_CLASS = None\n",
      "No HDU found matching: OBS_ID = 2930, HDU_TYPE = bkg, HDU_CLASS = None\n",
      "No HDU found matching: OBS_ID = 2930, HDU_TYPE = rad_max, HDU_CLASS = None\n",
      "No HDU found matching: OBS_ID = 2931, HDU_TYPE = psf, HDU_CLASS = None\n",
      "No HDU found matching: OBS_ID = 2931, HDU_TYPE = bkg, HDU_CLASS = None\n",
      "No HDU found matching: OBS_ID = 2931, HDU_TYPE = rad_max, HDU_CLASS = None\n",
      "No HDU found matching: OBS_ID = 2932, HDU_TYPE = psf, HDU_CLASS = None\n",
      "No HDU found matching: OBS_ID = 2932, HDU_TYPE = bkg, HDU_CLASS = None\n",
      "No HDU found matching: OBS_ID = 2932, HDU_TYPE = rad_max, HDU_CLASS = None\n",
      "No HDU found matching: OBS_ID = 2933, HDU_TYPE = psf, HDU_CLASS = None\n",
      "No HDU found matching: OBS_ID = 2933, HDU_TYPE = bkg, HDU_CLASS = None\n",
      "No HDU found matching: OBS_ID = 2933, HDU_TYPE = rad_max, HDU_CLASS = None\n",
      "No HDU found matching: OBS_ID = 2934, HDU_TYPE = psf, HDU_CLASS = None\n",
      "No HDU found matching: OBS_ID = 2934, HDU_TYPE = bkg, HDU_CLASS = None\n",
      "No HDU found matching: OBS_ID = 2934, HDU_TYPE = rad_max, HDU_CLASS = None\n",
      "No HDU found matching: OBS_ID = 2949, HDU_TYPE = psf, HDU_CLASS = None\n",
      "No HDU found matching: OBS_ID = 2949, HDU_TYPE = bkg, HDU_CLASS = None\n",
      "No HDU found matching: OBS_ID = 2949, HDU_TYPE = rad_max, HDU_CLASS = None\n",
      "No HDU found matching: OBS_ID = 2950, HDU_TYPE = psf, HDU_CLASS = None\n",
      "No HDU found matching: OBS_ID = 2950, HDU_TYPE = bkg, HDU_CLASS = None\n",
      "No HDU found matching: OBS_ID = 2950, HDU_TYPE = rad_max, HDU_CLASS = None\n",
      "No HDU found matching: OBS_ID = 2955, HDU_TYPE = psf, HDU_CLASS = None\n",
      "No HDU found matching: OBS_ID = 2955, HDU_TYPE = bkg, HDU_CLASS = None\n",
      "No HDU found matching: OBS_ID = 2955, HDU_TYPE = rad_max, HDU_CLASS = None\n",
      "No HDU found matching: OBS_ID = 2967, HDU_TYPE = psf, HDU_CLASS = None\n",
      "No HDU found matching: OBS_ID = 2967, HDU_TYPE = bkg, HDU_CLASS = None\n",
      "No HDU found matching: OBS_ID = 2967, HDU_TYPE = rad_max, HDU_CLASS = None\n",
      "No HDU found matching: OBS_ID = 2968, HDU_TYPE = psf, HDU_CLASS = None\n",
      "No HDU found matching: OBS_ID = 2968, HDU_TYPE = bkg, HDU_CLASS = None\n",
      "No HDU found matching: OBS_ID = 2968, HDU_TYPE = rad_max, HDU_CLASS = None\n",
      "No HDU found matching: OBS_ID = 2969, HDU_TYPE = psf, HDU_CLASS = None\n",
      "No HDU found matching: OBS_ID = 2969, HDU_TYPE = bkg, HDU_CLASS = None\n",
      "No HDU found matching: OBS_ID = 2969, HDU_TYPE = rad_max, HDU_CLASS = None\n",
      "No HDU found matching: OBS_ID = 2970, HDU_TYPE = psf, HDU_CLASS = None\n",
      "No HDU found matching: OBS_ID = 2970, HDU_TYPE = bkg, HDU_CLASS = None\n",
      "No HDU found matching: OBS_ID = 2970, HDU_TYPE = rad_max, HDU_CLASS = None\n",
      "No HDU found matching: OBS_ID = 2971, HDU_TYPE = psf, HDU_CLASS = None\n",
      "No HDU found matching: OBS_ID = 2971, HDU_TYPE = bkg, HDU_CLASS = None\n",
      "No HDU found matching: OBS_ID = 2971, HDU_TYPE = rad_max, HDU_CLASS = None\n",
      "No HDU found matching: OBS_ID = 2972, HDU_TYPE = psf, HDU_CLASS = None\n",
      "No HDU found matching: OBS_ID = 2972, HDU_TYPE = bkg, HDU_CLASS = None\n",
      "No HDU found matching: OBS_ID = 2972, HDU_TYPE = rad_max, HDU_CLASS = None\n",
      "No HDU found matching: OBS_ID = 2973, HDU_TYPE = psf, HDU_CLASS = None\n",
      "No HDU found matching: OBS_ID = 2973, HDU_TYPE = bkg, HDU_CLASS = None\n",
      "No HDU found matching: OBS_ID = 2973, HDU_TYPE = rad_max, HDU_CLASS = None\n",
      "No HDU found matching: OBS_ID = 2974, HDU_TYPE = psf, HDU_CLASS = None\n",
      "No HDU found matching: OBS_ID = 2974, HDU_TYPE = bkg, HDU_CLASS = None\n",
      "No HDU found matching: OBS_ID = 2974, HDU_TYPE = rad_max, HDU_CLASS = None\n",
      "No HDU found matching: OBS_ID = 2975, HDU_TYPE = psf, HDU_CLASS = None\n",
      "No HDU found matching: OBS_ID = 2975, HDU_TYPE = bkg, HDU_CLASS = None\n",
      "No HDU found matching: OBS_ID = 2975, HDU_TYPE = rad_max, HDU_CLASS = None\n",
      "No HDU found matching: OBS_ID = 2976, HDU_TYPE = psf, HDU_CLASS = None\n",
      "No HDU found matching: OBS_ID = 2976, HDU_TYPE = bkg, HDU_CLASS = None\n",
      "No HDU found matching: OBS_ID = 2976, HDU_TYPE = rad_max, HDU_CLASS = None\n",
      "No HDU found matching: OBS_ID = 2977, HDU_TYPE = psf, HDU_CLASS = None\n",
      "No HDU found matching: OBS_ID = 2977, HDU_TYPE = bkg, HDU_CLASS = None\n",
      "No HDU found matching: OBS_ID = 2977, HDU_TYPE = rad_max, HDU_CLASS = None\n",
      "No HDU found matching: OBS_ID = 2988, HDU_TYPE = psf, HDU_CLASS = None\n",
      "No HDU found matching: OBS_ID = 2988, HDU_TYPE = bkg, HDU_CLASS = None\n",
      "No HDU found matching: OBS_ID = 2988, HDU_TYPE = rad_max, HDU_CLASS = None\n",
      "No HDU found matching: OBS_ID = 2989, HDU_TYPE = psf, HDU_CLASS = None\n",
      "No HDU found matching: OBS_ID = 2989, HDU_TYPE = bkg, HDU_CLASS = None\n",
      "No HDU found matching: OBS_ID = 2989, HDU_TYPE = rad_max, HDU_CLASS = None\n",
      "No HDU found matching: OBS_ID = 2990, HDU_TYPE = psf, HDU_CLASS = None\n",
      "No HDU found matching: OBS_ID = 2990, HDU_TYPE = bkg, HDU_CLASS = None\n",
      "No HDU found matching: OBS_ID = 2990, HDU_TYPE = rad_max, HDU_CLASS = None\n",
      "No HDU found matching: OBS_ID = 2991, HDU_TYPE = psf, HDU_CLASS = None\n",
      "No HDU found matching: OBS_ID = 2991, HDU_TYPE = bkg, HDU_CLASS = None\n",
      "No HDU found matching: OBS_ID = 2991, HDU_TYPE = rad_max, HDU_CLASS = None\n",
      "No HDU found matching: OBS_ID = 2992, HDU_TYPE = psf, HDU_CLASS = None\n",
      "No HDU found matching: OBS_ID = 2992, HDU_TYPE = bkg, HDU_CLASS = None\n",
      "No HDU found matching: OBS_ID = 2992, HDU_TYPE = rad_max, HDU_CLASS = None\n",
      "No HDU found matching: OBS_ID = 3004, HDU_TYPE = psf, HDU_CLASS = None\n",
      "No HDU found matching: OBS_ID = 3004, HDU_TYPE = bkg, HDU_CLASS = None\n",
      "No HDU found matching: OBS_ID = 3004, HDU_TYPE = rad_max, HDU_CLASS = None\n",
      "No HDU found matching: OBS_ID = 3005, HDU_TYPE = psf, HDU_CLASS = None\n",
      "No HDU found matching: OBS_ID = 3005, HDU_TYPE = bkg, HDU_CLASS = None\n",
      "No HDU found matching: OBS_ID = 3005, HDU_TYPE = rad_max, HDU_CLASS = None\n",
      "No HDU found matching: OBS_ID = 3006, HDU_TYPE = psf, HDU_CLASS = None\n",
      "No HDU found matching: OBS_ID = 3006, HDU_TYPE = bkg, HDU_CLASS = None\n",
      "No HDU found matching: OBS_ID = 3006, HDU_TYPE = rad_max, HDU_CLASS = None\n",
      "No HDU found matching: OBS_ID = 3007, HDU_TYPE = psf, HDU_CLASS = None\n",
      "No HDU found matching: OBS_ID = 3007, HDU_TYPE = bkg, HDU_CLASS = None\n",
      "No HDU found matching: OBS_ID = 3007, HDU_TYPE = rad_max, HDU_CLASS = None\n",
      "No HDU found matching: OBS_ID = 3008, HDU_TYPE = psf, HDU_CLASS = None\n",
      "No HDU found matching: OBS_ID = 3008, HDU_TYPE = bkg, HDU_CLASS = None\n",
      "No HDU found matching: OBS_ID = 3008, HDU_TYPE = rad_max, HDU_CLASS = None\n",
      "No HDU found matching: OBS_ID = 3093, HDU_TYPE = psf, HDU_CLASS = None\n",
      "No HDU found matching: OBS_ID = 3093, HDU_TYPE = bkg, HDU_CLASS = None\n",
      "No HDU found matching: OBS_ID = 3093, HDU_TYPE = rad_max, HDU_CLASS = None\n",
      "No HDU found matching: OBS_ID = 3094, HDU_TYPE = psf, HDU_CLASS = None\n",
      "No HDU found matching: OBS_ID = 3094, HDU_TYPE = bkg, HDU_CLASS = None\n",
      "No HDU found matching: OBS_ID = 3094, HDU_TYPE = rad_max, HDU_CLASS = None\n",
      "No HDU found matching: OBS_ID = 3095, HDU_TYPE = psf, HDU_CLASS = None\n",
      "No HDU found matching: OBS_ID = 3095, HDU_TYPE = bkg, HDU_CLASS = None\n",
      "No HDU found matching: OBS_ID = 3095, HDU_TYPE = rad_max, HDU_CLASS = None\n",
      "No HDU found matching: OBS_ID = 3096, HDU_TYPE = psf, HDU_CLASS = None\n",
      "No HDU found matching: OBS_ID = 3096, HDU_TYPE = bkg, HDU_CLASS = None\n",
      "No HDU found matching: OBS_ID = 3096, HDU_TYPE = rad_max, HDU_CLASS = None\n",
      "No HDU found matching: OBS_ID = 3231, HDU_TYPE = psf, HDU_CLASS = None\n",
      "No HDU found matching: OBS_ID = 3231, HDU_TYPE = bkg, HDU_CLASS = None\n",
      "No HDU found matching: OBS_ID = 3231, HDU_TYPE = rad_max, HDU_CLASS = None\n",
      "No HDU found matching: OBS_ID = 3232, HDU_TYPE = psf, HDU_CLASS = None\n",
      "No HDU found matching: OBS_ID = 3232, HDU_TYPE = bkg, HDU_CLASS = None\n",
      "No HDU found matching: OBS_ID = 3232, HDU_TYPE = rad_max, HDU_CLASS = None\n"
     ]
    },
    {
     "name": "stderr",
     "output_type": "stream",
     "text": [
      "No HDU found matching: OBS_ID = 3243, HDU_TYPE = psf, HDU_CLASS = None\n",
      "No HDU found matching: OBS_ID = 3243, HDU_TYPE = bkg, HDU_CLASS = None\n",
      "No HDU found matching: OBS_ID = 3243, HDU_TYPE = rad_max, HDU_CLASS = None\n",
      "No HDU found matching: OBS_ID = 3270, HDU_TYPE = psf, HDU_CLASS = None\n",
      "No HDU found matching: OBS_ID = 3270, HDU_TYPE = bkg, HDU_CLASS = None\n",
      "No HDU found matching: OBS_ID = 3270, HDU_TYPE = rad_max, HDU_CLASS = None\n",
      "No HDU found matching: OBS_ID = 3271, HDU_TYPE = psf, HDU_CLASS = None\n",
      "No HDU found matching: OBS_ID = 3271, HDU_TYPE = bkg, HDU_CLASS = None\n",
      "No HDU found matching: OBS_ID = 3271, HDU_TYPE = rad_max, HDU_CLASS = None\n",
      "No HDU found matching: OBS_ID = 3272, HDU_TYPE = psf, HDU_CLASS = None\n",
      "No HDU found matching: OBS_ID = 3272, HDU_TYPE = bkg, HDU_CLASS = None\n",
      "No HDU found matching: OBS_ID = 3272, HDU_TYPE = rad_max, HDU_CLASS = None\n",
      "No HDU found matching: OBS_ID = 3273, HDU_TYPE = psf, HDU_CLASS = None\n",
      "No HDU found matching: OBS_ID = 3273, HDU_TYPE = bkg, HDU_CLASS = None\n",
      "No HDU found matching: OBS_ID = 3273, HDU_TYPE = rad_max, HDU_CLASS = None\n",
      "No HDU found matching: OBS_ID = 3274, HDU_TYPE = psf, HDU_CLASS = None\n",
      "No HDU found matching: OBS_ID = 3274, HDU_TYPE = bkg, HDU_CLASS = None\n",
      "No HDU found matching: OBS_ID = 3274, HDU_TYPE = rad_max, HDU_CLASS = None\n",
      "No HDU found matching: OBS_ID = 3275, HDU_TYPE = psf, HDU_CLASS = None\n",
      "No HDU found matching: OBS_ID = 3275, HDU_TYPE = bkg, HDU_CLASS = None\n",
      "No HDU found matching: OBS_ID = 3275, HDU_TYPE = rad_max, HDU_CLASS = None\n",
      "No HDU found matching: OBS_ID = 3276, HDU_TYPE = psf, HDU_CLASS = None\n",
      "No HDU found matching: OBS_ID = 3276, HDU_TYPE = bkg, HDU_CLASS = None\n",
      "No HDU found matching: OBS_ID = 3276, HDU_TYPE = rad_max, HDU_CLASS = None\n",
      "No HDU found matching: OBS_ID = 3277, HDU_TYPE = psf, HDU_CLASS = None\n",
      "No HDU found matching: OBS_ID = 3277, HDU_TYPE = bkg, HDU_CLASS = None\n",
      "No HDU found matching: OBS_ID = 3277, HDU_TYPE = rad_max, HDU_CLASS = None\n",
      "No HDU found matching: OBS_ID = 3278, HDU_TYPE = psf, HDU_CLASS = None\n",
      "No HDU found matching: OBS_ID = 3278, HDU_TYPE = bkg, HDU_CLASS = None\n",
      "No HDU found matching: OBS_ID = 3278, HDU_TYPE = rad_max, HDU_CLASS = None\n",
      "No HDU found matching: OBS_ID = 3279, HDU_TYPE = psf, HDU_CLASS = None\n",
      "No HDU found matching: OBS_ID = 3279, HDU_TYPE = bkg, HDU_CLASS = None\n",
      "No HDU found matching: OBS_ID = 3279, HDU_TYPE = rad_max, HDU_CLASS = None\n",
      "No HDU found matching: OBS_ID = 3318, HDU_TYPE = psf, HDU_CLASS = None\n",
      "No HDU found matching: OBS_ID = 3318, HDU_TYPE = bkg, HDU_CLASS = None\n",
      "No HDU found matching: OBS_ID = 3318, HDU_TYPE = rad_max, HDU_CLASS = None\n",
      "No HDU found matching: OBS_ID = 3319, HDU_TYPE = psf, HDU_CLASS = None\n",
      "No HDU found matching: OBS_ID = 3319, HDU_TYPE = bkg, HDU_CLASS = None\n",
      "No HDU found matching: OBS_ID = 3319, HDU_TYPE = rad_max, HDU_CLASS = None\n",
      "No HDU found matching: OBS_ID = 3320, HDU_TYPE = psf, HDU_CLASS = None\n",
      "No HDU found matching: OBS_ID = 3320, HDU_TYPE = bkg, HDU_CLASS = None\n",
      "No HDU found matching: OBS_ID = 3320, HDU_TYPE = rad_max, HDU_CLASS = None\n",
      "No HDU found matching: OBS_ID = 3321, HDU_TYPE = psf, HDU_CLASS = None\n",
      "No HDU found matching: OBS_ID = 3321, HDU_TYPE = bkg, HDU_CLASS = None\n",
      "No HDU found matching: OBS_ID = 3321, HDU_TYPE = rad_max, HDU_CLASS = None\n",
      "No HDU found matching: OBS_ID = 3328, HDU_TYPE = psf, HDU_CLASS = None\n",
      "No HDU found matching: OBS_ID = 3328, HDU_TYPE = bkg, HDU_CLASS = None\n",
      "No HDU found matching: OBS_ID = 3328, HDU_TYPE = rad_max, HDU_CLASS = None\n",
      "No HDU found matching: OBS_ID = 3329, HDU_TYPE = psf, HDU_CLASS = None\n",
      "No HDU found matching: OBS_ID = 3329, HDU_TYPE = bkg, HDU_CLASS = None\n",
      "No HDU found matching: OBS_ID = 3329, HDU_TYPE = rad_max, HDU_CLASS = None\n",
      "No HDU found matching: OBS_ID = 3330, HDU_TYPE = psf, HDU_CLASS = None\n",
      "No HDU found matching: OBS_ID = 3330, HDU_TYPE = bkg, HDU_CLASS = None\n",
      "No HDU found matching: OBS_ID = 3330, HDU_TYPE = rad_max, HDU_CLASS = None\n",
      "No HDU found matching: OBS_ID = 3338, HDU_TYPE = psf, HDU_CLASS = None\n",
      "No HDU found matching: OBS_ID = 3338, HDU_TYPE = bkg, HDU_CLASS = None\n",
      "No HDU found matching: OBS_ID = 3338, HDU_TYPE = rad_max, HDU_CLASS = None\n",
      "No HDU found matching: OBS_ID = 3339, HDU_TYPE = psf, HDU_CLASS = None\n",
      "No HDU found matching: OBS_ID = 3339, HDU_TYPE = bkg, HDU_CLASS = None\n",
      "No HDU found matching: OBS_ID = 3339, HDU_TYPE = rad_max, HDU_CLASS = None\n",
      "No HDU found matching: OBS_ID = 3340, HDU_TYPE = psf, HDU_CLASS = None\n",
      "No HDU found matching: OBS_ID = 3340, HDU_TYPE = bkg, HDU_CLASS = None\n",
      "No HDU found matching: OBS_ID = 3340, HDU_TYPE = rad_max, HDU_CLASS = None\n",
      "No HDU found matching: OBS_ID = 3355, HDU_TYPE = psf, HDU_CLASS = None\n",
      "No HDU found matching: OBS_ID = 3355, HDU_TYPE = bkg, HDU_CLASS = None\n",
      "No HDU found matching: OBS_ID = 3355, HDU_TYPE = rad_max, HDU_CLASS = None\n",
      "No HDU found matching: OBS_ID = 3356, HDU_TYPE = psf, HDU_CLASS = None\n",
      "No HDU found matching: OBS_ID = 3356, HDU_TYPE = bkg, HDU_CLASS = None\n",
      "No HDU found matching: OBS_ID = 3356, HDU_TYPE = rad_max, HDU_CLASS = None\n",
      "No HDU found matching: OBS_ID = 3373, HDU_TYPE = psf, HDU_CLASS = None\n",
      "No HDU found matching: OBS_ID = 3373, HDU_TYPE = bkg, HDU_CLASS = None\n",
      "No HDU found matching: OBS_ID = 3373, HDU_TYPE = rad_max, HDU_CLASS = None\n",
      "No HDU found matching: OBS_ID = 3598, HDU_TYPE = psf, HDU_CLASS = None\n",
      "No HDU found matching: OBS_ID = 3598, HDU_TYPE = bkg, HDU_CLASS = None\n",
      "No HDU found matching: OBS_ID = 3598, HDU_TYPE = rad_max, HDU_CLASS = None\n",
      "No HDU found matching: OBS_ID = 3599, HDU_TYPE = psf, HDU_CLASS = None\n",
      "No HDU found matching: OBS_ID = 3599, HDU_TYPE = bkg, HDU_CLASS = None\n",
      "No HDU found matching: OBS_ID = 3599, HDU_TYPE = rad_max, HDU_CLASS = None\n",
      "No HDU found matching: OBS_ID = 3600, HDU_TYPE = psf, HDU_CLASS = None\n",
      "No HDU found matching: OBS_ID = 3600, HDU_TYPE = bkg, HDU_CLASS = None\n",
      "No HDU found matching: OBS_ID = 3600, HDU_TYPE = rad_max, HDU_CLASS = None\n",
      "No HDU found matching: OBS_ID = 3601, HDU_TYPE = psf, HDU_CLASS = None\n",
      "No HDU found matching: OBS_ID = 3601, HDU_TYPE = bkg, HDU_CLASS = None\n",
      "No HDU found matching: OBS_ID = 3601, HDU_TYPE = rad_max, HDU_CLASS = None\n",
      "No HDU found matching: OBS_ID = 3615, HDU_TYPE = psf, HDU_CLASS = None\n",
      "No HDU found matching: OBS_ID = 3615, HDU_TYPE = bkg, HDU_CLASS = None\n",
      "No HDU found matching: OBS_ID = 3615, HDU_TYPE = rad_max, HDU_CLASS = None\n",
      "No HDU found matching: OBS_ID = 3632, HDU_TYPE = psf, HDU_CLASS = None\n",
      "No HDU found matching: OBS_ID = 3632, HDU_TYPE = bkg, HDU_CLASS = None\n",
      "No HDU found matching: OBS_ID = 3632, HDU_TYPE = rad_max, HDU_CLASS = None\n",
      "No HDU found matching: OBS_ID = 3633, HDU_TYPE = psf, HDU_CLASS = None\n",
      "No HDU found matching: OBS_ID = 3633, HDU_TYPE = bkg, HDU_CLASS = None\n",
      "No HDU found matching: OBS_ID = 3633, HDU_TYPE = rad_max, HDU_CLASS = None\n",
      "No HDU found matching: OBS_ID = 3634, HDU_TYPE = psf, HDU_CLASS = None\n",
      "No HDU found matching: OBS_ID = 3634, HDU_TYPE = bkg, HDU_CLASS = None\n",
      "No HDU found matching: OBS_ID = 3634, HDU_TYPE = rad_max, HDU_CLASS = None\n",
      "No HDU found matching: OBS_ID = 3635, HDU_TYPE = psf, HDU_CLASS = None\n",
      "No HDU found matching: OBS_ID = 3635, HDU_TYPE = bkg, HDU_CLASS = None\n",
      "No HDU found matching: OBS_ID = 3635, HDU_TYPE = rad_max, HDU_CLASS = None\n",
      "No HDU found matching: OBS_ID = 3651, HDU_TYPE = psf, HDU_CLASS = None\n",
      "No HDU found matching: OBS_ID = 3651, HDU_TYPE = bkg, HDU_CLASS = None\n",
      "No HDU found matching: OBS_ID = 3651, HDU_TYPE = rad_max, HDU_CLASS = None\n",
      "No HDU found matching: OBS_ID = 3652, HDU_TYPE = psf, HDU_CLASS = None\n",
      "No HDU found matching: OBS_ID = 3652, HDU_TYPE = bkg, HDU_CLASS = None\n",
      "No HDU found matching: OBS_ID = 3652, HDU_TYPE = rad_max, HDU_CLASS = None\n",
      "No HDU found matching: OBS_ID = 3653, HDU_TYPE = psf, HDU_CLASS = None\n",
      "No HDU found matching: OBS_ID = 3653, HDU_TYPE = bkg, HDU_CLASS = None\n",
      "No HDU found matching: OBS_ID = 3653, HDU_TYPE = rad_max, HDU_CLASS = None\n",
      "No HDU found matching: OBS_ID = 3655, HDU_TYPE = psf, HDU_CLASS = None\n",
      "No HDU found matching: OBS_ID = 3655, HDU_TYPE = bkg, HDU_CLASS = None\n",
      "No HDU found matching: OBS_ID = 3655, HDU_TYPE = rad_max, HDU_CLASS = None\n",
      "No HDU found matching: OBS_ID = 3672, HDU_TYPE = psf, HDU_CLASS = None\n",
      "No HDU found matching: OBS_ID = 3672, HDU_TYPE = bkg, HDU_CLASS = None\n",
      "No HDU found matching: OBS_ID = 3672, HDU_TYPE = rad_max, HDU_CLASS = None\n"
     ]
    },
    {
     "name": "stderr",
     "output_type": "stream",
     "text": [
      "No HDU found matching: OBS_ID = 3673, HDU_TYPE = psf, HDU_CLASS = None\n",
      "No HDU found matching: OBS_ID = 3673, HDU_TYPE = bkg, HDU_CLASS = None\n",
      "No HDU found matching: OBS_ID = 3673, HDU_TYPE = rad_max, HDU_CLASS = None\n",
      "No HDU found matching: OBS_ID = 3674, HDU_TYPE = psf, HDU_CLASS = None\n",
      "No HDU found matching: OBS_ID = 3674, HDU_TYPE = bkg, HDU_CLASS = None\n",
      "No HDU found matching: OBS_ID = 3674, HDU_TYPE = rad_max, HDU_CLASS = None\n",
      "No HDU found matching: OBS_ID = 3675, HDU_TYPE = psf, HDU_CLASS = None\n",
      "No HDU found matching: OBS_ID = 3675, HDU_TYPE = bkg, HDU_CLASS = None\n",
      "No HDU found matching: OBS_ID = 3675, HDU_TYPE = rad_max, HDU_CLASS = None\n",
      "No HDU found matching: OBS_ID = 3676, HDU_TYPE = psf, HDU_CLASS = None\n",
      "No HDU found matching: OBS_ID = 3676, HDU_TYPE = bkg, HDU_CLASS = None\n",
      "No HDU found matching: OBS_ID = 3676, HDU_TYPE = rad_max, HDU_CLASS = None\n",
      "No HDU found matching: OBS_ID = 3677, HDU_TYPE = psf, HDU_CLASS = None\n",
      "No HDU found matching: OBS_ID = 3677, HDU_TYPE = bkg, HDU_CLASS = None\n",
      "No HDU found matching: OBS_ID = 3677, HDU_TYPE = rad_max, HDU_CLASS = None\n",
      "No HDU found matching: OBS_ID = 3706, HDU_TYPE = psf, HDU_CLASS = None\n",
      "No HDU found matching: OBS_ID = 3706, HDU_TYPE = bkg, HDU_CLASS = None\n",
      "No HDU found matching: OBS_ID = 3706, HDU_TYPE = rad_max, HDU_CLASS = None\n",
      "No HDU found matching: OBS_ID = 3707, HDU_TYPE = psf, HDU_CLASS = None\n",
      "No HDU found matching: OBS_ID = 3707, HDU_TYPE = bkg, HDU_CLASS = None\n",
      "No HDU found matching: OBS_ID = 3707, HDU_TYPE = rad_max, HDU_CLASS = None\n",
      "No HDU found matching: OBS_ID = 3708, HDU_TYPE = psf, HDU_CLASS = None\n",
      "No HDU found matching: OBS_ID = 3708, HDU_TYPE = bkg, HDU_CLASS = None\n",
      "No HDU found matching: OBS_ID = 3708, HDU_TYPE = rad_max, HDU_CLASS = None\n",
      "No HDU found matching: OBS_ID = 3953, HDU_TYPE = psf, HDU_CLASS = None\n",
      "No HDU found matching: OBS_ID = 3953, HDU_TYPE = bkg, HDU_CLASS = None\n",
      "No HDU found matching: OBS_ID = 3953, HDU_TYPE = rad_max, HDU_CLASS = None\n",
      "No HDU found matching: OBS_ID = 3954, HDU_TYPE = psf, HDU_CLASS = None\n",
      "No HDU found matching: OBS_ID = 3954, HDU_TYPE = bkg, HDU_CLASS = None\n",
      "No HDU found matching: OBS_ID = 3954, HDU_TYPE = rad_max, HDU_CLASS = None\n",
      "No HDU found matching: OBS_ID = 3955, HDU_TYPE = psf, HDU_CLASS = None\n",
      "No HDU found matching: OBS_ID = 3955, HDU_TYPE = bkg, HDU_CLASS = None\n",
      "No HDU found matching: OBS_ID = 3955, HDU_TYPE = rad_max, HDU_CLASS = None\n",
      "No HDU found matching: OBS_ID = 3974, HDU_TYPE = psf, HDU_CLASS = None\n",
      "No HDU found matching: OBS_ID = 3974, HDU_TYPE = bkg, HDU_CLASS = None\n",
      "No HDU found matching: OBS_ID = 3974, HDU_TYPE = rad_max, HDU_CLASS = None\n",
      "No HDU found matching: OBS_ID = 4027, HDU_TYPE = psf, HDU_CLASS = None\n",
      "No HDU found matching: OBS_ID = 4027, HDU_TYPE = bkg, HDU_CLASS = None\n",
      "No HDU found matching: OBS_ID = 4027, HDU_TYPE = rad_max, HDU_CLASS = None\n",
      "No HDU found matching: OBS_ID = 4067, HDU_TYPE = psf, HDU_CLASS = None\n",
      "No HDU found matching: OBS_ID = 4067, HDU_TYPE = bkg, HDU_CLASS = None\n",
      "No HDU found matching: OBS_ID = 4067, HDU_TYPE = rad_max, HDU_CLASS = None\n",
      "No HDU found matching: OBS_ID = 4068, HDU_TYPE = psf, HDU_CLASS = None\n",
      "No HDU found matching: OBS_ID = 4068, HDU_TYPE = bkg, HDU_CLASS = None\n",
      "No HDU found matching: OBS_ID = 4068, HDU_TYPE = rad_max, HDU_CLASS = None\n",
      "No HDU found matching: OBS_ID = 4086, HDU_TYPE = psf, HDU_CLASS = None\n",
      "No HDU found matching: OBS_ID = 4086, HDU_TYPE = bkg, HDU_CLASS = None\n",
      "No HDU found matching: OBS_ID = 4086, HDU_TYPE = rad_max, HDU_CLASS = None\n",
      "No HDU found matching: OBS_ID = 4087, HDU_TYPE = psf, HDU_CLASS = None\n",
      "No HDU found matching: OBS_ID = 4087, HDU_TYPE = bkg, HDU_CLASS = None\n",
      "No HDU found matching: OBS_ID = 4087, HDU_TYPE = rad_max, HDU_CLASS = None\n",
      "No HDU found matching: OBS_ID = 6045, HDU_TYPE = psf, HDU_CLASS = None\n",
      "No HDU found matching: OBS_ID = 6045, HDU_TYPE = bkg, HDU_CLASS = None\n",
      "No HDU found matching: OBS_ID = 6045, HDU_TYPE = rad_max, HDU_CLASS = None\n",
      "No HDU found matching: OBS_ID = 6073, HDU_TYPE = psf, HDU_CLASS = None\n",
      "No HDU found matching: OBS_ID = 6073, HDU_TYPE = bkg, HDU_CLASS = None\n",
      "No HDU found matching: OBS_ID = 6073, HDU_TYPE = rad_max, HDU_CLASS = None\n",
      "No HDU found matching: OBS_ID = 6148, HDU_TYPE = psf, HDU_CLASS = None\n",
      "No HDU found matching: OBS_ID = 6148, HDU_TYPE = bkg, HDU_CLASS = None\n",
      "No HDU found matching: OBS_ID = 6148, HDU_TYPE = rad_max, HDU_CLASS = None\n",
      "No HDU found matching: OBS_ID = 6195, HDU_TYPE = psf, HDU_CLASS = None\n",
      "No HDU found matching: OBS_ID = 6195, HDU_TYPE = bkg, HDU_CLASS = None\n",
      "No HDU found matching: OBS_ID = 6195, HDU_TYPE = rad_max, HDU_CLASS = None\n",
      "No HDU found matching: OBS_ID = 6304, HDU_TYPE = psf, HDU_CLASS = None\n",
      "No HDU found matching: OBS_ID = 6304, HDU_TYPE = bkg, HDU_CLASS = None\n",
      "No HDU found matching: OBS_ID = 6304, HDU_TYPE = rad_max, HDU_CLASS = None\n",
      "No HDU found matching: OBS_ID = 6872, HDU_TYPE = psf, HDU_CLASS = None\n",
      "No HDU found matching: OBS_ID = 6872, HDU_TYPE = bkg, HDU_CLASS = None\n",
      "No HDU found matching: OBS_ID = 6872, HDU_TYPE = rad_max, HDU_CLASS = None\n",
      "No HDU found matching: OBS_ID = 6873, HDU_TYPE = psf, HDU_CLASS = None\n",
      "No HDU found matching: OBS_ID = 6873, HDU_TYPE = bkg, HDU_CLASS = None\n",
      "No HDU found matching: OBS_ID = 6873, HDU_TYPE = rad_max, HDU_CLASS = None\n",
      "No HDU found matching: OBS_ID = 6874, HDU_TYPE = psf, HDU_CLASS = None\n",
      "No HDU found matching: OBS_ID = 6874, HDU_TYPE = bkg, HDU_CLASS = None\n",
      "No HDU found matching: OBS_ID = 6874, HDU_TYPE = rad_max, HDU_CLASS = None\n",
      "No HDU found matching: OBS_ID = 6875, HDU_TYPE = psf, HDU_CLASS = None\n",
      "No HDU found matching: OBS_ID = 6875, HDU_TYPE = bkg, HDU_CLASS = None\n",
      "No HDU found matching: OBS_ID = 6875, HDU_TYPE = rad_max, HDU_CLASS = None\n",
      "No HDU found matching: OBS_ID = 6892, HDU_TYPE = psf, HDU_CLASS = None\n",
      "No HDU found matching: OBS_ID = 6892, HDU_TYPE = bkg, HDU_CLASS = None\n",
      "No HDU found matching: OBS_ID = 6892, HDU_TYPE = rad_max, HDU_CLASS = None\n",
      "No HDU found matching: OBS_ID = 6893, HDU_TYPE = psf, HDU_CLASS = None\n",
      "No HDU found matching: OBS_ID = 6893, HDU_TYPE = bkg, HDU_CLASS = None\n",
      "No HDU found matching: OBS_ID = 6893, HDU_TYPE = rad_max, HDU_CLASS = None\n",
      "No HDU found matching: OBS_ID = 6894, HDU_TYPE = psf, HDU_CLASS = None\n",
      "No HDU found matching: OBS_ID = 6894, HDU_TYPE = bkg, HDU_CLASS = None\n",
      "No HDU found matching: OBS_ID = 6894, HDU_TYPE = rad_max, HDU_CLASS = None\n",
      "No HDU found matching: OBS_ID = 6895, HDU_TYPE = psf, HDU_CLASS = None\n",
      "No HDU found matching: OBS_ID = 6895, HDU_TYPE = bkg, HDU_CLASS = None\n",
      "No HDU found matching: OBS_ID = 6895, HDU_TYPE = rad_max, HDU_CLASS = None\n",
      "No HDU found matching: OBS_ID = 7086, HDU_TYPE = psf, HDU_CLASS = None\n",
      "No HDU found matching: OBS_ID = 7086, HDU_TYPE = bkg, HDU_CLASS = None\n",
      "No HDU found matching: OBS_ID = 7086, HDU_TYPE = rad_max, HDU_CLASS = None\n",
      "No HDU found matching: OBS_ID = 7097, HDU_TYPE = psf, HDU_CLASS = None\n",
      "No HDU found matching: OBS_ID = 7097, HDU_TYPE = bkg, HDU_CLASS = None\n",
      "No HDU found matching: OBS_ID = 7097, HDU_TYPE = rad_max, HDU_CLASS = None\n",
      "No HDU found matching: OBS_ID = 7098, HDU_TYPE = psf, HDU_CLASS = None\n",
      "No HDU found matching: OBS_ID = 7098, HDU_TYPE = bkg, HDU_CLASS = None\n",
      "No HDU found matching: OBS_ID = 7098, HDU_TYPE = rad_max, HDU_CLASS = None\n",
      "No HDU found matching: OBS_ID = 7099, HDU_TYPE = psf, HDU_CLASS = None\n",
      "No HDU found matching: OBS_ID = 7099, HDU_TYPE = bkg, HDU_CLASS = None\n",
      "No HDU found matching: OBS_ID = 7099, HDU_TYPE = rad_max, HDU_CLASS = None\n",
      "No HDU found matching: OBS_ID = 7133, HDU_TYPE = psf, HDU_CLASS = None\n",
      "No HDU found matching: OBS_ID = 7133, HDU_TYPE = bkg, HDU_CLASS = None\n",
      "No HDU found matching: OBS_ID = 7133, HDU_TYPE = rad_max, HDU_CLASS = None\n",
      "No HDU found matching: OBS_ID = 7136, HDU_TYPE = psf, HDU_CLASS = None\n",
      "No HDU found matching: OBS_ID = 7136, HDU_TYPE = bkg, HDU_CLASS = None\n",
      "No HDU found matching: OBS_ID = 7136, HDU_TYPE = rad_max, HDU_CLASS = None\n"
     ]
    }
   ],
   "source": [
    "total_obs_list = total_datastore.obs_table[\"OBS_ID\"].data\n",
    "observations = total_datastore.get_observations(total_obs_list, required_irf=None)"
   ]
  },
  {
   "cell_type": "code",
   "execution_count": 17,
   "id": "26706c8f",
   "metadata": {},
   "outputs": [],
   "source": [
    "d_zen = [total_datastore.obs_table[\"ZEN_PNT\"]<max_zen]\n",
    "\n",
    "obs_table = total_datastore.obs_table[d_zen[0]]\n",
    "obs_list = total_datastore.obs_table[d_zen[0]][\"OBS_ID\"]"
   ]
  },
  {
   "cell_type": "code",
   "execution_count": 18,
   "id": "90b2f194",
   "metadata": {},
   "outputs": [
    {
     "name": "stdout",
     "output_type": "stream",
     "text": [
      "Wobble observation runs selected are: OBS_ID\n",
      "------\n",
      "  2913\n",
      "  2914\n",
      "  2929\n",
      "  2930\n",
      "  2931\n",
      "  2932\n",
      "  2933\n",
      "   ...\n",
      "  6895\n",
      "  7086\n",
      "  7097\n",
      "  7098\n",
      "  7099\n",
      "  7133\n",
      "  7136\n",
      "Length = 112 rows\n",
      "Name of the source:Crab\n",
      "Total livetime of all observations: 33.949 hrs\n",
      "Total livetime of all selected wobble observations 33.949 hrs\n"
     ]
    }
   ],
   "source": [
    "print('Wobble observation runs selected are:', obs_list)\n",
    "print('Name of the source:'+str(obj_name))\n",
    "print(f'Total livetime of all observations: {total_datastore.obs_table[\"LIVETIME\"].data.sum()/3600:.3f} hrs')\n",
    "print(f'Total livetime of all selected wobble observations {obs_table[\"LIVETIME\"].data.sum()/3600:.3f} hrs')"
   ]
  },
  {
   "cell_type": "code",
   "execution_count": 91,
   "id": "2aeb68e8",
   "metadata": {},
   "outputs": [
    {
     "name": "stdout",
     "output_type": "stream",
     "text": [
      "Reading observation: 2913\n",
      "Reading observation: 2914\n",
      "Reading observation: 2929\n",
      "Reading observation: 2930\n",
      "Reading observation: 2931\n",
      "Reading observation: 2932\n",
      "Reading observation: 2933\n",
      "Reading observation: 2934\n",
      "Reading observation: 2949\n",
      "Reading observation: 2950\n",
      "Reading observation: 2955\n",
      "Reading observation: 2967\n",
      "Reading observation: 2968\n",
      "Reading observation: 2969\n",
      "Reading observation: 2970\n",
      "Reading observation: 2971\n",
      "Reading observation: 2972\n",
      "Reading observation: 2973\n",
      "Reading observation: 2974\n",
      "Reading observation: 2975\n",
      "Reading observation: 2976\n",
      "Reading observation: 2977\n",
      "Reading observation: 2988\n",
      "Reading observation: 2989\n",
      "Reading observation: 2990\n",
      "Reading observation: 2991\n",
      "Reading observation: 2992\n",
      "Reading observation: 3004\n",
      "Reading observation: 3005\n",
      "Reading observation: 3006\n",
      "Finished reading and adding phases\n"
     ]
    }
   ],
   "source": [
    "#New observation list \n",
    "observation_list=[]\n",
    "\n",
    "for j in range(0,30): #Loop over the observations\n",
    "    print('Reading observation: '+str(obs_list[j]))\n",
    "    \n",
    "    #Read the DL2 files that will be used (since we are now working with subruns, there are multiple DL2 files for 1 run )\n",
    "    DL2_filelist=find_files_in_dir(DL2_direc,str(obs_list[j]))\n",
    "    \n",
    "    #Read the DL3-table and extract the times\n",
    "    table=unique(observations[j].events.select_region(on_region).table,'TIME') # We only need the ON region\n",
    "    times=table['TIME']\n",
    "\n",
    "    #Read the Dl2 events \n",
    "    df_list=[]\n",
    "    for file in DL2_filelist:\n",
    "        df_i=pd.read_hdf(file,key=dl2_params_lstcam_key)\n",
    "        df_i=df_i[['trigger_time','pulsar_phase']]\n",
    "        df_i['pulsar_phase']=shift_negative_phases(df_i.pulsar_phase.to_list()) #PINT gives phases from [-0.5,0.5] but we need them in [0,1])\n",
    "        df_list.append(df_i)\n",
    "    df = pd.concat(df_list)\n",
    "    \n",
    "    #Filter using the times to keep only events that survived in the DL3 file\n",
    "    df=df[df['trigger_time'].isin(times)]\n",
    "    df=df.sort_values('trigger_time')\n",
    "    \n",
    "    #Create the new table with the phases\n",
    "    table['PHASE']=df.pulsar_phase\n",
    "    Events=EventList(table=table)\n",
    "    \n",
    "    #Create an observation for object with this new table and set the same IRFs and append to the list\n",
    "    obs=Observation(obs_id=observations[j].obs_id,obs_info=observations[j].obs_info,events=Events,\n",
    "                    gti=observations[j].gti,aeff=observations[j].aeff,edisp= observations[j].edisp)\n",
    "    observation_list.append(obs)\n",
    "\n",
    "print('Finished reading and adding phases')"
   ]
  },
  {
   "cell_type": "code",
   "execution_count": 92,
   "id": "e61ceca8",
   "metadata": {},
   "outputs": [
    {
     "data": {
      "text/html": [
       "<i>Table length=47839</i>\n",
       "<table id=\"table140229409213264\" class=\"table-striped table-bordered table-condensed\">\n",
       "<thead><tr><th>EVENT_ID</th><th>TIME</th><th>RA</th><th>DEC</th><th>ENERGY</th><th>GAMMANESS</th><th>MULTIP</th><th>GLON</th><th>GLAT</th><th>ALT</th><th>AZ</th><th>PHASE</th></tr></thead>\n",
       "<thead><tr><th></th><th>s</th><th>deg</th><th>deg</th><th>TeV</th><th></th><th></th><th>deg</th><th>deg</th><th>deg</th><th>deg</th><th></th></tr></thead>\n",
       "<thead><tr><th>int64</th><th>float64</th><th>float64</th><th>float64</th><th>float64</th><th>float64</th><th>int64</th><th>float64</th><th>float64</th><th>float64</th><th>float64</th><th>float128</th></tr></thead>\n",
       "<tr><td>600</td><td>1605669688.4044366</td><td>83.63308333002661</td><td>22.014499999992164</td><td>0.03369900371567072</td><td>0.7061666666666666</td><td>1</td><td>184.55745787701582</td><td>-5.784356705760376</td><td>81.26665239039687</td><td>220.94787795499155</td><td>0.61882333957423973914</td></tr>\n",
       "<tr><td>663</td><td>1605669688.4159842</td><td>83.63308333002662</td><td>22.01449999999217</td><td>0.03802535364574506</td><td>0.6504166666666665</td><td>1</td><td>184.55745787701582</td><td>-5.784356705760365</td><td>81.26662467171515</td><td>220.94810912221547</td><td>0.9606582128386005337</td></tr>\n",
       "<tr><td>691</td><td>1605669688.4202096</td><td>83.63308333002662</td><td>22.014499999992182</td><td>0.040890626189391766</td><td>0.5368333333333333</td><td>1</td><td>184.55745787701582</td><td>-5.784356705760357</td><td>81.26661452884547</td><td>220.94819371072234</td><td>0.08575468388703733069</td></tr>\n",
       "<tr><td>722</td><td>1605669688.426301</td><td>83.63308333002662</td><td>22.014499999992164</td><td>0.07861603964677227</td><td>0.7915833333333333</td><td>1</td><td>184.55745787701582</td><td>-5.784356705760366</td><td>81.26659990712558</td><td>220.94831565092048</td><td>0.2660588258386749061</td></tr>\n",
       "<tr><td>726</td><td>1605669688.426826</td><td>83.63308333002664</td><td>22.014499999992186</td><td>0.021598789553003855</td><td>0.8254999999999998</td><td>1</td><td>184.55745787701582</td><td>-5.7843567057603344</td><td>81.26659864691773</td><td>220.94832616059568</td><td>0.2815967791630580308</td></tr>\n",
       "<tr><td>934</td><td>1605669688.4642048</td><td>83.63308333002662</td><td>22.01449999999218</td><td>0.08769436410190176</td><td>0.5971428571428571</td><td>1</td><td>184.55745787701582</td><td>-5.784356705760358</td><td>81.26650892190311</td><td>220.94907442143705</td><td>0.38812891220964296224</td></tr>\n",
       "<tr><td>...</td><td>...</td><td>...</td><td>...</td><td>...</td><td>...</td><td>...</td><td>...</td><td>...</td><td>...</td><td>...</td><td>...</td></tr>\n",
       "<tr><td>5782725</td><td>1605670866.8124604</td><td>83.63308333003476</td><td>22.01449999999465</td><td>0.07016645133184272</td><td>0.7981666666666666</td><td>1</td><td>184.55745787701775</td><td>-5.784356705752659</td><td>77.94231051994853</td><td>238.5678216952819</td><td>0.86289891784058703195</td></tr>\n",
       "<tr><td>5782793</td><td>1605670866.8260608</td><td>83.63308333003475</td><td>22.014499999994626</td><td>0.07179502967069361</td><td>0.5668333333333333</td><td>1</td><td>184.55745787701775</td><td>-5.784356705752679</td><td>77.94226801653404</td><td>238.56797064564702</td><td>0.26552995216211705554</td></tr>\n",
       "<tr><td>5782909</td><td>1605670866.856255</td><td>83.63308333003476</td><td>22.014499999994644</td><td>0.024929058181171814</td><td>0.5265952380952381</td><td>1</td><td>184.55745787701775</td><td>-5.784356705752665</td><td>77.94217365400549</td><td>238.5683013285258</td><td>0.15933912639234470987</td></tr>\n",
       "<tr><td>5783089</td><td>1605670866.8935907</td><td>83.63308333003478</td><td>22.01449999999466</td><td>0.055979071828017896</td><td>0.6186666666666667</td><td>1</td><td>184.55745787701775</td><td>-5.7843567057526455</td><td>77.94205697301561</td><td>238.5687102157968</td><td>0.26459226230240595612</td></tr>\n",
       "<tr><td>5783235</td><td>1605670866.9252017</td><td>83.63308333003475</td><td>22.014499999994637</td><td>0.04868908372047659</td><td>0.7841666666666667</td><td>1</td><td>184.55745787701775</td><td>-5.7843567057526775</td><td>77.94195818230978</td><td>238.56905640278373</td><td>0.20037307114858116108</td></tr>\n",
       "<tr><td>5783439</td><td>1605670866.9757655</td><td>83.63308333003476</td><td>22.014499999994634</td><td>0.02631765911247041</td><td>0.632</td><td>1</td><td>184.55745787701775</td><td>-5.78435670575267</td><td>77.9418001593403</td><td>238.56961014079755</td><td>0.6972080341106927648</td></tr>\n",
       "</table>"
      ],
      "text/plain": [
       "<Table length=47839>\n",
       "EVENT_ID        TIME        ...         AZ                 PHASE         \n",
       "                 s          ...        deg                               \n",
       " int64        float64       ...      float64              float128       \n",
       "-------- ------------------ ... ------------------ ----------------------\n",
       "     600 1605669688.4044366 ... 220.94787795499155 0.61882333957423973914\n",
       "     663 1605669688.4159842 ... 220.94810912221547  0.9606582128386005337\n",
       "     691 1605669688.4202096 ... 220.94819371072234 0.08575468388703733069\n",
       "     722  1605669688.426301 ... 220.94831565092048  0.2660588258386749061\n",
       "     726  1605669688.426826 ... 220.94832616059568  0.2815967791630580308\n",
       "     934 1605669688.4642048 ... 220.94907442143705 0.38812891220964296224\n",
       "     ...                ... ...                ...                    ...\n",
       " 5782725 1605670866.8124604 ...  238.5678216952819 0.86289891784058703195\n",
       " 5782793 1605670866.8260608 ... 238.56797064564702 0.26552995216211705554\n",
       " 5782909  1605670866.856255 ...  238.5683013285258 0.15933912639234470987\n",
       " 5783089 1605670866.8935907 ...  238.5687102157968 0.26459226230240595612\n",
       " 5783235 1605670866.9252017 ... 238.56905640278373 0.20037307114858116108\n",
       " 5783439 1605670866.9757655 ... 238.56961014079755  0.6972080341106927648"
      ]
     },
     "execution_count": 92,
     "metadata": {},
     "output_type": "execute_result"
    }
   ],
   "source": [
    "observation_list[0].events.table"
   ]
  },
  {
   "cell_type": "markdown",
   "id": "989ef7f2",
   "metadata": {},
   "source": [
    "# 3. Define makers"
   ]
  },
  {
   "cell_type": "code",
   "execution_count": 93,
   "id": "a4282ba1",
   "metadata": {},
   "outputs": [],
   "source": [
    "# Create Makers\n",
    "geom = RegionGeom.create(region=on_region, axes=[e_reco])\n",
    "dataset_empty = SpectrumDataset.create(geom=geom,energy_axis_true=e_true)"
   ]
  },
  {
   "cell_type": "code",
   "execution_count": 94,
   "id": "4eabedc4",
   "metadata": {},
   "outputs": [],
   "source": [
    "dataset_maker = SpectrumDatasetMaker(containment_correction=False, selection=[\"counts\", \"exposure\", \"edisp\"],\n",
    "                                     use_region_center=True)"
   ]
  },
  {
   "cell_type": "code",
   "execution_count": 95,
   "id": "22220c26",
   "metadata": {},
   "outputs": [],
   "source": [
    "# Define background maker with the phase regions\n",
    "bkg_maker_P1 = PhaseBackgroundMaker(on_phase=[on_phase_range_P1_1,on_phase_range_P1_2], off_phase=off_phase_range)\n",
    "bkg_maker_P2 = PhaseBackgroundMaker(on_phase=on_phase_range_P2, off_phase=off_phase_range)"
   ]
  },
  {
   "cell_type": "code",
   "execution_count": 96,
   "id": "148f8c60",
   "metadata": {},
   "outputs": [],
   "source": [
    "safe_mask_masker = SafeMaskMaker(methods=[\"aeff-max\"], aeff_percent=10)"
   ]
  },
  {
   "cell_type": "markdown",
   "id": "634b1ef9",
   "metadata": {},
   "source": [
    "# 4. Run makers on the observations to get the Datasets"
   ]
  },
  {
   "cell_type": "markdown",
   "id": "292b46e8",
   "metadata": {},
   "source": [
    "### For P2 as an example"
   ]
  },
  {
   "cell_type": "code",
   "execution_count": 129,
   "id": "c1b5ba0c",
   "metadata": {},
   "outputs": [
    {
     "name": "stderr",
     "output_type": "stream",
     "text": [
      "MapMaker: use_region_center=False should not be used with point-like IRF. Results are likely inaccurate.\n",
      "MapMaker: use_region_center=False should not be used with point-like IRF. Results are likely inaccurate.\n",
      "MapMaker: use_region_center=False should not be used with point-like IRF. Results are likely inaccurate.\n",
      "MapMaker: use_region_center=False should not be used with point-like IRF. Results are likely inaccurate.\n",
      "MapMaker: use_region_center=False should not be used with point-like IRF. Results are likely inaccurate.\n",
      "MapMaker: use_region_center=False should not be used with point-like IRF. Results are likely inaccurate.\n",
      "MapMaker: use_region_center=False should not be used with point-like IRF. Results are likely inaccurate.\n",
      "MapMaker: use_region_center=False should not be used with point-like IRF. Results are likely inaccurate.\n",
      "MapMaker: use_region_center=False should not be used with point-like IRF. Results are likely inaccurate.\n",
      "MapMaker: use_region_center=False should not be used with point-like IRF. Results are likely inaccurate.\n",
      "MapMaker: use_region_center=False should not be used with point-like IRF. Results are likely inaccurate.\n",
      "MapMaker: use_region_center=False should not be used with point-like IRF. Results are likely inaccurate.\n",
      "MapMaker: use_region_center=False should not be used with point-like IRF. Results are likely inaccurate.\n",
      "MapMaker: use_region_center=False should not be used with point-like IRF. Results are likely inaccurate.\n",
      "MapMaker: use_region_center=False should not be used with point-like IRF. Results are likely inaccurate.\n",
      "MapMaker: use_region_center=False should not be used with point-like IRF. Results are likely inaccurate.\n",
      "MapMaker: use_region_center=False should not be used with point-like IRF. Results are likely inaccurate.\n",
      "MapMaker: use_region_center=False should not be used with point-like IRF. Results are likely inaccurate.\n",
      "MapMaker: use_region_center=False should not be used with point-like IRF. Results are likely inaccurate.\n",
      "MapMaker: use_region_center=False should not be used with point-like IRF. Results are likely inaccurate.\n",
      "MapMaker: use_region_center=False should not be used with point-like IRF. Results are likely inaccurate.\n",
      "MapMaker: use_region_center=False should not be used with point-like IRF. Results are likely inaccurate.\n",
      "MapMaker: use_region_center=False should not be used with point-like IRF. Results are likely inaccurate.\n",
      "MapMaker: use_region_center=False should not be used with point-like IRF. Results are likely inaccurate.\n",
      "MapMaker: use_region_center=False should not be used with point-like IRF. Results are likely inaccurate.\n",
      "MapMaker: use_region_center=False should not be used with point-like IRF. Results are likely inaccurate.\n",
      "MapMaker: use_region_center=False should not be used with point-like IRF. Results are likely inaccurate.\n",
      "MapMaker: use_region_center=False should not be used with point-like IRF. Results are likely inaccurate.\n",
      "MapMaker: use_region_center=False should not be used with point-like IRF. Results are likely inaccurate.\n",
      "MapMaker: use_region_center=False should not be used with point-like IRF. Results are likely inaccurate.\n"
     ]
    }
   ],
   "source": [
    "# The final object will be stored as a Datasets object\n",
    "datasets_P2 = Datasets()\n",
    "\n",
    "for obs_id, observation in zip(total_obs_list, observation_list):\n",
    "    dataset = dataset_maker.run(dataset_empty.copy(name=str(obs_id)), observation)\n",
    "    \n",
    "    dataset_on_off = bkg_maker_P2.run(dataset=dataset, observation=observation)\n",
    "    #dataset_on_off = safe_mask_masker.run(dataset_on_off, observation)\n",
    "    \n",
    "    # Add the name of the observed source\n",
    "    dataset_on_off.meta_table[\"SOURCE\"]='Crab'\n",
    "    \n",
    "    datasets_P2.append(dataset_on_off)  "
   ]
  },
  {
   "cell_type": "code",
   "execution_count": 130,
   "id": "c6d1e789",
   "metadata": {},
   "outputs": [],
   "source": [
    "dataset_stacked_P2 = Datasets(datasets_P2).stack_reduce()"
   ]
  },
  {
   "cell_type": "code",
   "execution_count": 131,
   "id": "8e41a908",
   "metadata": {},
   "outputs": [
    {
     "data": {
      "text/plain": [
       "{'name': '4eMpBKVW',\n",
       " 'counts': 52736,\n",
       " 'background': 51376.3828125,\n",
       " 'excess': 1359.6172,\n",
       " 'sqrt_ts': 5.618940746457077,\n",
       " 'npred': 51531.27304408599,\n",
       " 'npred_background': 51531.27304408599,\n",
       " 'npred_signal': nan,\n",
       " 'exposure_min': <Quantity 45987020. m2 s>,\n",
       " 'exposure_max': <Quantity 1.44132854e+10 m2 s>,\n",
       " 'livetime': <Quantity 33595.71661785 s>,\n",
       " 'ontime': <Quantity 35372.08850241 s>,\n",
       " 'counts_rate': <Quantity 1.56972392 1 / s>,\n",
       " 'background_rate': <Quantity 1.52925396 1 / s>,\n",
       " 'excess_rate': <Quantity 0.04046996 1 / s>,\n",
       " 'n_bins': 40,\n",
       " 'n_fit_bins': 40,\n",
       " 'stat_type': 'wstat',\n",
       " 'stat_sum': 62.449510784940045,\n",
       " 'counts_off': 399594,\n",
       " 'acceptance': 40.0,\n",
       " 'acceptance_off': 311.1110421754159,\n",
       " 'alpha': 0.12857145071029663}"
      ]
     },
     "execution_count": 131,
     "metadata": {},
     "output_type": "execute_result"
    }
   ],
   "source": [
    "dataset_stacked_P2.info_dict()"
   ]
  },
  {
   "cell_type": "markdown",
   "id": "05deae78",
   "metadata": {},
   "source": [
    "# 5. Do the Fitting"
   ]
  },
  {
   "cell_type": "code",
   "execution_count": 137,
   "id": "8880f3b9",
   "metadata": {},
   "outputs": [],
   "source": [
    "emin_fit, emax_fit = (0.025 * u.TeV,  100 * u.TeV)\n",
    "spectral_model = PowerLawSpectralModel(index=2.9, \n",
    "                                        amplitude=2e-11 * u.Unit(\"1 / (cm2 s TeV)\"), \n",
    "                                        reference=0.15 * u.TeV)\n",
    "model_P2 = SkyModel(spectral_model=spectral_model, name=\"crab P2\")"
   ]
  },
  {
   "cell_type": "code",
   "execution_count": 138,
   "id": "9869009e",
   "metadata": {},
   "outputs": [],
   "source": [
    "dataset_stacked_P2.models = model_P2\n",
    "dataset_stacked_P2.mask_fit = dataset_stacked_P2.counts.geom.energy_mask(emin_fit, emax_fit)\n",
    "\n",
    "stacked_fit = Fit()\n",
    "result_stacked_P2 = stacked_fit.run([dataset_stacked_P2])\n",
    "\n",
    "# make a copy to compare later\n",
    "model_best_stacked_P2 = model_P2.copy()"
   ]
  },
  {
   "cell_type": "code",
   "execution_count": 139,
   "id": "3c3f18e5",
   "metadata": {},
   "outputs": [
    {
     "data": {
      "text/html": [
       "<i>Table length=3</i>\n",
       "<table id=\"table140229562274768\" class=\"table-striped table-bordered table-condensed\">\n",
       "<thead><tr><th>type</th><th>name</th><th>value</th><th>unit</th><th>error</th><th>min</th><th>max</th><th>frozen</th><th>link</th></tr></thead>\n",
       "<thead><tr><th>str8</th><th>str9</th><th>float64</th><th>str14</th><th>float64</th><th>float64</th><th>float64</th><th>bool</th><th>str1</th></tr></thead>\n",
       "<tr><td>spectral</td><td>index</td><td>3.1023e+00</td><td></td><td>2.135e-01</td><td>nan</td><td>nan</td><td>False</td><td></td></tr>\n",
       "<tr><td>spectral</td><td>amplitude</td><td>2.9484e-11</td><td>cm-2 s-1 TeV-1</td><td>8.733e-12</td><td>nan</td><td>nan</td><td>False</td><td></td></tr>\n",
       "<tr><td>spectral</td><td>reference</td><td>1.5000e-01</td><td>TeV</td><td>0.000e+00</td><td>nan</td><td>nan</td><td>True</td><td></td></tr>\n",
       "</table>"
      ],
      "text/plain": [
       "<Table length=3>\n",
       "  type      name     value         unit      ...   min     max   frozen link\n",
       "  str8      str9    float64       str14      ... float64 float64  bool  str1\n",
       "-------- --------- ---------- -------------- ... ------- ------- ------ ----\n",
       "spectral     index 3.1023e+00                ...     nan     nan  False     \n",
       "spectral amplitude 2.9484e-11 cm-2 s-1 TeV-1 ...     nan     nan  False     \n",
       "spectral reference 1.5000e-01            TeV ...     nan     nan   True     "
      ]
     },
     "execution_count": 139,
     "metadata": {},
     "output_type": "execute_result"
    }
   ],
   "source": [
    "model_best_stacked_P2.parameters.to_table()"
   ]
  },
  {
   "cell_type": "markdown",
   "id": "d1b56145",
   "metadata": {},
   "source": [
    "# 6. Obtain spectral points"
   ]
  },
  {
   "cell_type": "code",
   "execution_count": 140,
   "id": "1657dffd",
   "metadata": {},
   "outputs": [],
   "source": [
    "min_ts=1.5 #Limit for the UL\n",
    "e_min, e_max = 0.025, 1\n",
    "energy_edges = np.geomspace(e_min, e_max, 7) * u.TeV"
   ]
  },
  {
   "cell_type": "code",
   "execution_count": 141,
   "id": "b9d7a30e",
   "metadata": {},
   "outputs": [],
   "source": [
    "fpe = FluxPointsEstimator(energy_edges=energy_edges, source=\"crab P2\", selection_optional=\"all\")\n",
    "flux_points_P2 = fpe.run(datasets=dataset_stacked_P2)"
   ]
  },
  {
   "cell_type": "code",
   "execution_count": 142,
   "id": "79a3ce95",
   "metadata": {},
   "outputs": [],
   "source": [
    "flux_points_P2.is_ul = flux_points_P2.sqrt_ts < min_ts"
   ]
  },
  {
   "cell_type": "code",
   "execution_count": 143,
   "id": "a69cae84",
   "metadata": {},
   "outputs": [
    {
     "data": {
      "text/html": [
       "<i>Table length=6</i>\n",
       "<table id=\"table140229358166416\" class=\"table-striped table-bordered table-condensed\">\n",
       "<thead><tr><th>e_ref</th><th>e_min</th><th>e_max</th><th>dnde</th><th>dnde_err</th><th>dnde_errp</th><th>dnde_errn</th><th>dnde_ul</th><th>ts</th><th>sqrt_ts</th><th>npred [1]</th><th>npred_excess [1]</th><th>stat</th><th>is_ul</th><th>counts [1]</th><th>success</th><th>norm_scan [11]</th><th>stat_scan [11]</th></tr></thead>\n",
       "<thead><tr><th>TeV</th><th>TeV</th><th>TeV</th><th>1 / (cm2 s TeV)</th><th>1 / (cm2 s TeV)</th><th>1 / (cm2 s TeV)</th><th>1 / (cm2 s TeV)</th><th>1 / (cm2 s TeV)</th><th></th><th></th><th></th><th></th><th></th><th></th><th></th><th></th><th></th><th></th></tr></thead>\n",
       "<thead><tr><th>float64</th><th>float64</th><th>float64</th><th>float64</th><th>float64</th><th>float64</th><th>float64</th><th>float64</th><th>float64</th><th>float64</th><th>float64</th><th>float32</th><th>float64</th><th>bool</th><th>float64</th><th>bool</th><th>float64</th><th>float64</th></tr></thead>\n",
       "<tr><td>0.037</td><td>0.030</td><td>0.046</td><td>2.196e-09</td><td>6.420e-10</td><td>6.433e-10</td><td>6.408e-10</td><td>3.485e-09</td><td>11.861</td><td>3.444</td><td>18864.823455127713</td><td>497.4702</td><td>0.409</td><td>False</td><td>18867.0</td><td>True</td><td>0.200 .. 5.000</td><td>7.954 .. 180.645</td></tr>\n",
       "<tr><td>0.062</td><td>0.046</td><td>0.083</td><td>3.982e-10</td><td>1.488e-10</td><td>1.491e-10</td><td>1.485e-10</td><td>6.972e-10</td><td>7.251</td><td>2.693</td><td>17333.455791025488</td><td>373.39648</td><td>9.345</td><td>False</td><td>17347.0</td><td>True</td><td>0.200 .. 5.000</td><td>13.641 .. 161.797</td></tr>\n",
       "<tr><td>0.111</td><td>0.083</td><td>0.148</td><td>1.032e-10</td><td>3.383e-11</td><td>3.393e-11</td><td>3.374e-11</td><td>1.715e-10</td><td>9.508</td><td>3.083</td><td>9861.458617341961</td><td>320.74698</td><td>0.483</td><td>False</td><td>9862.0</td><td>True</td><td>0.200 .. 5.000</td><td>7.405 .. 62.898</td></tr>\n",
       "<tr><td>0.213</td><td>0.148</td><td>0.306</td><td>1.172e-11</td><td>5.531e-12</td><td>5.554e-12</td><td>5.508e-12</td><td>2.288e-11</td><td>4.578</td><td>2.140</td><td>4455.071687312466</td><td>149.9951</td><td>1.440</td><td>False</td><td>4455.0</td><td>True</td><td>0.200 .. 5.000</td><td>4.591 .. 45.804</td></tr>\n",
       "<tr><td>0.410</td><td>0.306</td><td>0.548</td><td>2.765e-13</td><td>1.392e-12</td><td>1.403e-12</td><td>nan</td><td>3.103e-12</td><td>0.039</td><td>0.199</td><td>1311.3098951033076</td><td>7.6352086</td><td>0.642</td><td>True</td><td>1312.0</td><td>True</td><td>0.200 .. 5.000</td><td>0.642 .. 19.541</td></tr>\n",
       "<tr><td>0.732</td><td>0.548</td><td>0.979</td><td>2.360e-14</td><td>4.246e-13</td><td>4.297e-13</td><td>nan</td><td>8.959e-13</td><td>0.004</td><td>0.062</td><td>563.1126277911592</td><td>1.3985227</td><td>2.112</td><td>True</td><td>562.0</td><td>True</td><td>0.200 .. 5.000</td><td>2.114 .. 7.900</td></tr>\n",
       "</table>"
      ],
      "text/plain": [
       "<Table length=6>\n",
       " e_ref   e_min   e_max  ... success norm_scan [11]   stat_scan [11] \n",
       "  TeV     TeV     TeV   ...                                         \n",
       "float64 float64 float64 ...   bool     float64          float64     \n",
       "------- ------- ------- ... ------- -------------- -----------------\n",
       "  0.037   0.030   0.046 ...    True 0.200 .. 5.000  7.954 .. 180.645\n",
       "  0.062   0.046   0.083 ...    True 0.200 .. 5.000 13.641 .. 161.797\n",
       "  0.111   0.083   0.148 ...    True 0.200 .. 5.000   7.405 .. 62.898\n",
       "  0.213   0.148   0.306 ...    True 0.200 .. 5.000   4.591 .. 45.804\n",
       "  0.410   0.306   0.548 ...    True 0.200 .. 5.000   0.642 .. 19.541\n",
       "  0.732   0.548   0.979 ...    True 0.200 .. 5.000    2.114 .. 7.900"
      ]
     },
     "execution_count": 143,
     "metadata": {},
     "output_type": "execute_result"
    }
   ],
   "source": [
    "flux_points_P2.to_table(sed_type=\"dnde\", formatted=True)"
   ]
  },
  {
   "cell_type": "markdown",
   "id": "07e92561",
   "metadata": {},
   "source": [
    "# 7. Plot the spectrum"
   ]
  },
  {
   "cell_type": "code",
   "execution_count": 153,
   "id": "78e1cd64",
   "metadata": {},
   "outputs": [],
   "source": [
    "ref_label=\"P1P2 MAGIC\"\n",
    "\n",
    "e_plot_min = 0.025 * u.TeV\n",
    "e_plot_max = 1 * u.TeV\n",
    "\n",
    "\n",
    "ds_kwargs = {\n",
    "    \"sed_type\": \"dnde\",\n",
    "    \"energy_bounds\": [e_plot_min, e_plot_max],\n",
    "    \"yunits\": u.Unit(\"erg-1 cm-2 s-1\"),\n",
    "}\n",
    "\n",
    "sed_kwargs_P2 = {\n",
    "    \"sed_type\": \"e2dnde\",\n",
    "    \"energy_bounds\": [e_plot_min, e_plot_max],\n",
    "    \"yunits\": u.Unit(\"erg cm-2 s-1\"),\n",
    "    \"color\":'red'\n",
    "}\n",
    "\n",
    "sed_plot_kwargs_P2 = {\n",
    "    \"label\": \"P1 LST-1 data\",\n",
    "    \"color\":'red'\n",
    "}\n",
    "plot_ts_kwargs = {\n",
    "    \"color\": \"darkorange\",\n",
    "}"
   ]
  },
  {
   "cell_type": "code",
   "execution_count": 145,
   "id": "657db8cd",
   "metadata": {},
   "outputs": [
    {
     "data": {
      "text/plain": [
       "Text(0.5, 1.0, 'TS Profiles')"
      ]
     },
     "execution_count": 145,
     "metadata": {},
     "output_type": "execute_result"
    },
    {
     "data": {
      "image/png": "[encoded data removed]",
      "text/plain": [
       "<Figure size 576x360 with 2 Axes>"
      ]
     },
     "metadata": {
      "needs_background": "light"
     },
     "output_type": "display_data"
    }
   ],
   "source": [
    "plt.figure(figsize=(8,5))\n",
    "ax = flux_points_P2.plot(sed_type=\"e2dnde\", **plot_ts_kwargs)\n",
    "\n",
    "flux_points_P2.plot_ts_profiles(ax=ax, sed_type=\"e2dnde\")\n",
    "\n",
    "plt.grid(which='both')\n",
    "plt.title('TS Profiles')"
   ]
  },
  {
   "cell_type": "code",
   "execution_count": 146,
   "id": "22d8ae7e",
   "metadata": {},
   "outputs": [
    {
     "data": {
      "text/plain": [
       "<AxesSubplot:>"
      ]
     },
     "execution_count": 146,
     "metadata": {},
     "output_type": "execute_result"
    },
    {
     "data": {
      "image/png": "[encoded data removed]",
      "text/plain": [
       "<Figure size 172.8x140.4 with 2 Axes>"
      ]
     },
     "metadata": {
      "needs_background": "light"
     },
     "output_type": "display_data"
    }
   ],
   "source": [
    "# Fit model covariance matrix plot\n",
    "model_best_stacked_P2.covariance.plot_correlation()"
   ]
  },
  {
   "cell_type": "code",
   "execution_count": 154,
   "id": "178ba7c5",
   "metadata": {},
   "outputs": [
    {
     "data": {
      "text/plain": [
       "(0.025, 1.0)"
      ]
     },
     "execution_count": 154,
     "metadata": {},
     "output_type": "execute_result"
    },
    {
     "data": {
      "image/png": "[encoded data removed]",
      "text/plain": [
       "<Figure size 576x576 with 2 Axes>"
      ]
     },
     "metadata": {
      "needs_background": "light"
     },
     "output_type": "display_data"
    }
   ],
   "source": [
    "fig_sed = plt.figure(figsize=(8,8))\n",
    "gs2 = GridSpec(7, 1)\n",
    "gs2.update(hspace=0.1)\n",
    "args1 = [gs2[:5,:]]\n",
    "args2 = [gs2[5:,:]]\n",
    "\n",
    "fig_gs1 = fig_sed.add_subplot(*args1)\n",
    "fig_gs2 = fig_sed.add_subplot(*args2)\n",
    "\n",
    "f=FluxPointsDataset(data=flux_points_P2, models=model_best_stacked_P2)\n",
    "f.plot_spectrum(ax=fig_gs1, kwargs_fp=sed_plot_kwargs_P2)\n",
    "f.plot_residuals(ax=fig_gs2, method='diff/model')\n",
    "\n",
    "ref_model = spectral_model = PowerLawSpectralModel(index=2.9, amplitude=2e-11 * u.Unit(\"1 / (cm2 s TeV)\"), \n",
    "                                                    reference=0.15 * u.TeV)\n",
    "ref_model.plot(ax=fig_gs1, **sed_kwargs_P2, label=ref_label)\n",
    "\n",
    "fig_gs1.legend()\n",
    "fig_gs1.grid(which='both')\n",
    "fig_gs1.set_title('SED')\n",
    "\n",
    "fig_gs2.grid(which='both')\n",
    "fig_gs2.set_xlim(e_plot_min.value, e_plot_max.value)"
   ]
  },
  {
   "cell_type": "code",
   "execution_count": null,
   "id": "9d2b9c4d",
   "metadata": {},
   "outputs": [],
   "source": []
  }
 ],
 "metadata": {
  "kernelspec": {
   "display_name": "Python 3 (ipykernel)",
   "language": "python",
   "name": "python3"
  },
  "language_info": {
   "codemirror_mode": {
    "name": "ipython",
    "version": 3
   },
   "file_extension": ".py",
   "mimetype": "text/x-python",
   "name": "python",
   "nbconvert_exporter": "python",
   "pygments_lexer": "ipython3",
   "version": "3.8.12"
  }
 },
 "nbformat": 4,
 "nbformat_minor": 5
}
