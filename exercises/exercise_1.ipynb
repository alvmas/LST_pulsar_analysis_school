{
 "cells": [
  {
   "cell_type": "markdown",
   "id": "1ac3783f",
   "metadata": {},
   "source": [
    "# Exercise 1. DL2 files and PINT"
   ]
  },
  {
   "cell_type": "markdown",
   "id": "b7f8c130",
   "metadata": {},
   "source": [
    "### 1.1 Download the most updated ephemeris from the Jodrell Bank web and create a .par file with the model for the month corresponding for the file and for the previous month"
   ]
  },
  {
   "cell_type": "markdown",
   "id": "47bc7ff2",
   "metadata": {},
   "source": [
    "### 1.2. Create the .tim file for the file "
   ]
  },
  {
   "cell_type": "markdown",
   "id": "54961346",
   "metadata": {},
   "source": [
    "### 1.3 Execute the scrit add_pulsarphase.py directly to the DL2 file to obtain the DL2_pulsar phase. Do it using both models. Compare the phases obtained with both models and plot the histogram of the difference between both phases for each event"
   ]
  },
  {
   "cell_type": "markdown",
   "id": "89badf76",
   "metadata": {},
   "source": [
    "--------------------------------------------------------------------------"
   ]
  },
  {
   "cell_type": "markdown",
   "id": "4ad60ff6",
   "metadata": {},
   "source": [
    "### 1.4 For the correct DL2_pulsar file build the phaseogram and get the P1/P2 ratio"
   ]
  },
  {
   "cell_type": "markdown",
   "id": "bfe90e29",
   "metadata": {},
   "source": [
    "### 1.5 Check the Nexcess and the significance of the bridge defined as the region between P1 and P2"
   ]
  },
  {
   "cell_type": "markdown",
   "id": "a7f3986b",
   "metadata": {},
   "source": [
    "### 1.6 Calculate the significance of each peak at E>100GeV and E<100 GeV"
   ]
  },
  {
   "cell_type": "markdown",
   "id": "c7eaa408",
   "metadata": {},
   "source": [
    "### 1.7 Try to fit the phaseogram to a Double Lorentzian Distibution"
   ]
  },
  {
   "cell_type": "code",
   "execution_count": null,
   "id": "1b64b48a",
   "metadata": {},
   "outputs": [],
   "source": []
  }
 ],
 "metadata": {
  "kernelspec": {
   "display_name": "Python 3 (ipykernel)",
   "language": "python",
   "name": "python3"
  },
  "language_info": {
   "codemirror_mode": {
    "name": "ipython",
    "version": 3
   },
   "file_extension": ".py",
   "mimetype": "text/x-python",
   "name": "python",
   "nbconvert_exporter": "python",
   "pygments_lexer": "ipython3",
   "version": "3.8.12"
  }
 },
 "nbformat": 4,
 "nbformat_minor": 5
}
